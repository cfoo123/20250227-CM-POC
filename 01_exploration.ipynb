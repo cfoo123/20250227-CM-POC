{
 "cells": [
  {
   "cell_type": "markdown",
   "metadata": {},
   "source": [
    "# Import Libraries"
   ]
  },
  {
   "cell_type": "code",
   "execution_count": 2,
   "metadata": {},
   "outputs": [],
   "source": [
    "from openai import OpenAI\n",
    "import pandas as pd\n",
    "import asyncio\n",
    "from openai import AsyncOpenAI\n",
    "from tqdm import tqdm\n",
    "import os\n",
    "import json\n",
    "\n",
    "from llm import get_top5\n"
   ]
  },
  {
   "cell_type": "code",
   "execution_count": 4,
   "metadata": {},
   "outputs": [
    {
     "name": "stdout",
     "output_type": "stream",
     "text": [
      "{'data': [{'id': 'gpt-3.5-turbo-0125', 'object': 'model', 'created': 1677610602, 'owned_by': 'openai'}, {'id': 'gpt-4o-mini', 'object': 'model', 'created': 1677610602, 'owned_by': 'openai'}], 'object': 'list'}\n"
     ]
    }
   ],
   "source": [
    "import requests\n",
    "import os\n",
    "\n",
    "# Define the API key\n",
    "openai_api = os.getenv(\"OPENAI_API_KEY\")\n",
    "\n",
    "# Set the headers with the API key\n",
    "headers = {\n",
    "\t\"Authorization\": f\"Bearer {openai_api}\"\n",
    "}\n",
    "\n",
    "# Check model list\n",
    "response = requests.get(\"https://staging-litellm.moneylion.io/models\", headers=headers)\n",
    "print(response.json())"
   ]
  },
  {
   "cell_type": "markdown",
   "metadata": {},
   "source": [
    "# Read Data"
   ]
  },
  {
   "cell_type": "code",
   "execution_count": 115,
   "metadata": {},
   "outputs": [],
   "source": [
    "df_1000 = pd.read_csv('data/1000_users_latest_credit.csv')\n",
    "df_1000.columns = df_1000.columns.str.lower()"
   ]
  },
  {
   "cell_type": "code",
   "execution_count": 7,
   "metadata": {},
   "outputs": [],
   "source": [
    "df_1000['vantage_score_category'] = pd.cut(df_1000['vantage_score3'],\n",
    "                                           bins=[-float('inf'), 599, 660, 715, 747, 850, float('inf')],\n",
    "                                           labels=['Poor', 'Fair', 'Good', 'Very Good', 'Exceptional', 'Out of Range'])"
   ]
  },
  {
   "cell_type": "code",
   "execution_count": 5,
   "metadata": {},
   "outputs": [
    {
     "name": "stderr",
     "output_type": "stream",
     "text": [
      "/var/folders/wf/dnb0jm9x1vnc27qxnk9yr6yh0000gp/T/ipykernel_19449/553982992.py:1: FutureWarning: The default of observed=False is deprecated and will be changed to True in a future version of pandas. Pass observed=False to retain current behavior or observed=True to adopt the future default and silence this warning.\n",
      "  df_1000.groupby('vantage_score_category').size()\n"
     ]
    },
    {
     "data": {
      "text/plain": [
       "vantage_score_category\n",
       "Poor            728\n",
       "Fair            191\n",
       "Good             66\n",
       "Very Good         9\n",
       "Exceptional       6\n",
       "Out of Range      0\n",
       "dtype: int64"
      ]
     },
     "execution_count": 5,
     "metadata": {},
     "output_type": "execute_result"
    }
   ],
   "source": [
    "df_1000.groupby('vantage_score_category').size()"
   ]
  },
  {
   "cell_type": "code",
   "execution_count": 17,
   "metadata": {},
   "outputs": [
    {
     "data": {
      "text/plain": [
       "460"
      ]
     },
     "execution_count": 17,
     "metadata": {},
     "output_type": "execute_result"
    }
   ],
   "source": [
    "import json\n",
    "\n",
    "first_row_json = df_1000.iloc[0].to_json()\n",
    "first_row_dict = json.loads(first_row_json)\n",
    "first_row_dict['vantage_score3']"
   ]
  },
  {
   "cell_type": "markdown",
   "metadata": {},
   "source": [
    "# sample groundtruth set"
   ]
  },
  {
   "cell_type": "code",
   "execution_count": 83,
   "metadata": {},
   "outputs": [
    {
     "name": "stderr",
     "output_type": "stream",
     "text": [
      "/var/folders/wf/dnb0jm9x1vnc27qxnk9yr6yh0000gp/T/ipykernel_16448/596256927.py:9: FutureWarning: The default of observed=False is deprecated and will be changed to True in a future version of pandas. Pass observed=False to retain current behavior or observed=True to adopt the future default and silence this warning.\n",
      "  sampled_df.groupby('vantage_score_category').size()\n"
     ]
    },
    {
     "data": {
      "text/plain": [
       "vantage_score_category\n",
       "Poor            10\n",
       "Fair             3\n",
       "Good             1\n",
       "Very Good        1\n",
       "Exceptional      1\n",
       "Out of Range     0\n",
       "dtype: int64"
      ]
     },
     "execution_count": 83,
     "metadata": {},
     "output_type": "execute_result"
    }
   ],
   "source": [
    "# Sample rows from each category\n",
    "sampled_df = pd.concat([\n",
    "    df_1000[df_1000['vantage_score_category'] == 'Poor'].sample(10, random_state=1),\n",
    "    df_1000[df_1000['vantage_score_category'] == 'Fair'].sample(3, random_state=1),\n",
    "    df_1000[df_1000['vantage_score_category'] == 'Good'].sample(1, random_state=1),\n",
    "    df_1000[df_1000['vantage_score_category'] == 'Very Good'].sample(1, random_state=1),\n",
    "    df_1000[df_1000['vantage_score_category'] == 'Exceptional'].sample(1, random_state=1)\n",
    "])\n",
    "sampled_df.groupby('vantage_score_category').size()"
   ]
  },
  {
   "cell_type": "code",
   "execution_count": 7,
   "metadata": {},
   "outputs": [],
   "source": [
    "sampled_df = df_1000[df_1000['user_email']=='399777dcde15a99f492a3f21b4b26e5e3127d2512f71e0cb0e6f568d7eb43e06']"
   ]
  },
  {
   "cell_type": "code",
   "execution_count": 8,
   "metadata": {},
   "outputs": [],
   "source": [
    "first_row_dict = json.loads(sampled_df[sampled_df['vantage_score_category'] == 'Poor'].iloc[0].to_json())"
   ]
  },
  {
   "cell_type": "markdown",
   "metadata": {},
   "source": [
    "# Prompt Building"
   ]
  },
  {
   "cell_type": "code",
   "execution_count": 74,
   "metadata": {},
   "outputs": [],
   "source": [
    "credit_score = first_row_dict['vantage_score3']\n",
    "ontime_payment_pct = first_row_dict['snap_shot__on_time_payment_percentage']\n",
    "late_payment_pct = first_row_dict['snap_shot__late_payment_percentage']\n",
    "delinquent_accounts = first_row_dict['snap_shot__delinquent_accounts']\n",
    "derogatory_accounts = first_row_dict['snap_shot__derogatory_accounts']\n",
    "utilization = first_row_dict['snap_shot__utilization']\n",
    "number_of_inquiries = first_row_dict['snap_shot__number_of_inquiries']\n",
    "available_credit = first_row_dict['snap_shot__available_credit']\n",
    "date_of_oldest_trade = first_row_dict['snap_shot__date_of_oldest_trade']\n",
    "age_of_credit = first_row_dict['snap_shot__age_of_credit']\n",
    "total_installment = first_row_dict['snap_shot__total_open_installment_accounts']\n",
    "total_revolving = first_row_dict['snap_shot__total_open_revolving_accounts']\n",
    "total_balances = first_row_dict['snap_shot__total_balances']\n",
    "installment_balances = first_row_dict['snap_shot__balance_open_installment_accounts']\n",
    "revolving_balances = first_row_dict['snap_shot__balance_open_revolving_accounts']\n",
    "mortgage_balances = first_row_dict['snap_shot__balance_open_mortgage_accounts']\n",
    "other_balances = first_row_dict['snap_shot__balance_open_other_accounts']\n",
    "collection_balances = first_row_dict['snap_shot__balance_open_collection_accounts']"
   ]
  },
  {
   "cell_type": "markdown",
   "metadata": {},
   "source": [
    "## Attempt 1: `gpt-3.5-turbo` zero shot, CoT"
   ]
  },
  {
   "cell_type": "code",
   "execution_count": 72,
   "metadata": {},
   "outputs": [],
   "source": [
    "system_prompt = \"\"\"\n",
    "You are an expert financial advisor AI, specializing in personal credit improvement. \n",
    "Your role is to analyze any credit-related data the user provides and then generate \n",
    "a clear, concise set of recommendations. \n",
    "\n",
    "- You will receive a user prompt containing specific credit data fields. \n",
    "- You should use chain-of-thought reasoning internally to arrive at your conclusion, \n",
    "  but only provide a concise and understandable explanation of your final recommendations \n",
    "  in the answer (i.e., do not expose all intermediate reasoning steps verbatim). \n",
    "- Your final output should be organized, practical, and directly address how the user \n",
    "  can improve their credit score based on the data provided.\n",
    "\n",
    "Remember:\n",
    "1. Stay on topic: The conversation is about credit improvement advice. \n",
    "2. Provide clear, actionable steps in your response, referencing the user’s data. \n",
    "3. If the user asks for chain-of-thought, provide a summarized or ‘mini’ version \n",
    "   rather than full internal reasoning.\n",
    "\n",
    "\"\"\""
   ]
  },
  {
   "cell_type": "code",
   "execution_count": 75,
   "metadata": {},
   "outputs": [],
   "source": [
    "user_prompt = f\"\"\"\n",
    "Below is my credit data. Please analyze it step by step using chain-of-thought reasoning \n",
    "and produce a concise set of personalized recommendations that explain what actions \n",
    "I can take to improve my credit score. \n",
    "For each recommendation, briefly mention how it ties back to the relevant data. \n",
    "\n",
    "Here is the data:\n",
    "\n",
    "Credit Score: {credit_score}\n",
    "Payment History:\n",
    "- On-Time Payment Percentage: {ontime_payment_pct}\n",
    "- Late Payment Percentage: {late_payment_pct}\n",
    "- No. of Delinquent Accounts: {delinquent_accounts}\n",
    "- No. of Derogatory Accounts: {derogatory_accounts}\n",
    "Credit Utilization:\n",
    "- Credit Utilization: {utilization}\n",
    "- Total Balances: {total_balances}\n",
    "- Total Available Credit: {available_credit}\n",
    "- Installment Balances: {installment_balances}\n",
    "- Revolving Balances: {revolving_balances}\n",
    "Length of Credit History:\n",
    "- Date of Oldest Trade: {date_of_oldest_trade}\n",
    "- Age of Credit in Years: {age_of_credit}\n",
    "Credit Mix:\n",
    "- Total Open Installment Accounts: {total_installment}\n",
    "- Total Open Revolving Accounts: {total_revolving}\n",
    "\n",
    "\n",
    "### Instructions:\n",
    "1. First, identify the user’s critical issues that most affect the credit score. \n",
    "2. Next, propose at least three prioritized recommendations on how to address these issues. \n",
    "3. Provide a short explanation for each recommendation, connecting it to the specific data. \n",
    "4. Present the final answer in a concise, actionable format.\n",
    "\n",
    "Please begin by laying out your thought process briefly (chain-of-thought style), \n",
    "and then summarize your final recommendations.\n",
    "\n",
    "\"\"\""
   ]
  },
  {
   "cell_type": "markdown",
   "metadata": {},
   "source": [
    "## Attempt 2: gpt-3.5-turbo, specify format given by o1 model"
   ]
  },
  {
   "cell_type": "code",
   "execution_count": 112,
   "metadata": {},
   "outputs": [],
   "source": [
    "system_prompt = \"\"\"\n",
    "Please analyze the credit score data provided above and generate a concise, user-friendly explanation of the credit situation. Follow the format:\n",
    "\n",
    "Score Health\n",
    "Key Negative Factors\n",
    "Positive Factors (or Less Negative)\n",
    "What Might Help Improve the Score\n",
    "Conclusion\n",
    "\n",
    "Focus on late payments, collections, the lack of open revolving accounts, and other important factors that contribute to a VantageScore 3. \n",
    "Provide clear, actionable steps to help improve the score. \n",
    "\"\"\""
   ]
  },
  {
   "cell_type": "code",
   "execution_count": 113,
   "metadata": {},
   "outputs": [],
   "source": [
    "user_prompt = \"\"\"\n",
    "You are a credit analysis assistant. You are given a detailed credit report and must provide an expert summary and recommendations in a specific, structured format. \n",
    "\n",
    "You must:\n",
    "1. Use the credit score data to inform your analysis. \n",
    "2. Clearly highlight any issues that could be impacting the user’s credit score (e.g., delinquent accounts, late payments, collections).\n",
    "3. List any positive or less negative elements (e.g., age of credit, on-time payments, account diversity).\n",
    "4. Provide recommendations for improving the score, focusing on actionable steps (e.g., addressing collections, making on-time payments, adding a secured card).\n",
    "5. Write concisely in plain language. \n",
    "6. Do not reveal or explain your internal chain of thought. Present only the final written content.\n",
    "\n",
    "Here is the credit score data you will use for your analysis:\n",
    "\n",
    "{\n",
    "  \"_id\": \"66ec502cc0b33822acefb102\",\n",
    "  \"user_id\": \"6515c12f1ddcd17a423751ee\",\n",
    "  \"user_email\": \"399777dcde15a99f492a3f21b4b26e5e3127d2512f71e0cb0e6f568d7eb43e06\",\n",
    "  \"created_at\": \"2024-09-19 16:24:12.712\",\n",
    "  \"credit_report_frozen\": false,\n",
    "  \"deleted\": false,\n",
    "  \"is_enrolled\": true,\n",
    "  \"updated_at\": \"2025-02-21 07:30:59.182\",\n",
    "  \"population_rank\": 10,\n",
    "  \"snap_shot__open_accounts\": 6,\n",
    "  \"snap_shot__total_closed_accounts\": null,\n",
    "  \"snap_shot__closed_accounts\": 6,\n",
    "  \"snap_shot__total_accounts\": 12,\n",
    "  \"snap_shot__delinquent_accounts\": 2,\n",
    "  \"snap_shot__derogatory_accounts\": 4,\n",
    "  \"snap_shot__total_balances\": 12802.0,\n",
    "  \"snap_shot__total_monthly_payments\": 291,\n",
    "  \"snap_shot__number_of_inquiries\": 5,\n",
    "  \"snap_shot__total_public_records\": 0,\n",
    "  \"snap_shot__available_credit\": 0.0,\n",
    "  \"snap_shot__utilization\": 0.0,\n",
    "  \"snap_shot__date_of_oldest_trade\": \"2020-04-08\",\n",
    "  \"snap_shot__age_of_credit\": 4.9,\n",
    "  \"snap_shot__total_open_installment_accounts\": 1,\n",
    "  \"snap_shot__total_open_collection_accounts\": 3,\n",
    "  \"snap_shot__total_open_mortgage_accounts\": 0,\n",
    "  \"snap_shot__total_open_revolving_accounts\": 0,\n",
    "  \"snap_shot__total_open_other_accounts\": 2,\n",
    "  \"snap_shot__balance_open_installment_accounts\": 8080,\n",
    "  \"snap_shot__balance_open_collection_accounts\": 4491,\n",
    "  \"snap_shot__balance_open_mortgage_accounts\": 0,\n",
    "  \"snap_shot__balance_open_revolving_accounts\": 0,\n",
    "  \"snap_shot__balance_open_other_accounts\": 0,\n",
    "  \"snap_shot__on_time_payment_percentage\": \"77.78%\",\n",
    "  \"snap_shot__late_payment_percentage\": \"22.22%\",\n",
    "  \"thin_file__description\": null,\n",
    "  \"vantage_score3\": 517,\n",
    "  \"vantage_score_category\": \"Poor\"\n",
    "}\n",
    "\n",
    "Ensure the final response includes all pertinent details and recommendations in the specified format.\n",
    "\"\"\""
   ]
  },
  {
   "cell_type": "code",
   "execution_count": 114,
   "metadata": {},
   "outputs": [
    {
     "name": "stdout",
     "output_type": "stream",
     "text": [
      "\n",
      "You are a credit analysis assistant. You are given a detailed credit report and must provide an expert summary and recommendations in a specific, structured format. \n",
      "\n",
      "You must:\n",
      "1. Use the credit score data to inform your analysis. \n",
      "2. Clearly highlight any issues that could be impacting the user’s credit score (e.g., delinquent accounts, late payments, collections).\n",
      "3. List any positive or less negative elements (e.g., age of credit, on-time payments, account diversity).\n",
      "4. Provide recommendations for improving the score, focusing on actionable steps (e.g., addressing collections, making on-time payments, adding a secured card).\n",
      "5. Write concisely in plain language. \n",
      "6. Do not reveal or explain your internal chain of thought. Present only the final written content.\n",
      "\n",
      "Here is the credit score data you will use for your analysis:\n",
      "\n",
      "{\n",
      "  \"_id\": \"66ec502cc0b33822acefb102\",\n",
      "  \"user_id\": \"6515c12f1ddcd17a423751ee\",\n",
      "  \"user_email\": \"399777dcde15a99f492a3f21b4b26e5e3127d2512f71e0cb0e6f568d7eb43e06\",\n",
      "  \"created_at\": \"2024-09-19 16:24:12.712\",\n",
      "  \"credit_report_frozen\": false,\n",
      "  \"deleted\": false,\n",
      "  \"is_enrolled\": true,\n",
      "  \"updated_at\": \"2025-02-21 07:30:59.182\",\n",
      "  \"population_rank\": 10,\n",
      "  \"snap_shot__open_accounts\": 6,\n",
      "  \"snap_shot__total_closed_accounts\": null,\n",
      "  \"snap_shot__closed_accounts\": 6,\n",
      "  \"snap_shot__total_accounts\": 12,\n",
      "  \"snap_shot__delinquent_accounts\": 2,\n",
      "  \"snap_shot__derogatory_accounts\": 4,\n",
      "  \"snap_shot__total_balances\": 12802.0,\n",
      "  \"snap_shot__total_monthly_payments\": 291,\n",
      "  \"snap_shot__number_of_inquiries\": 5,\n",
      "  \"snap_shot__total_public_records\": 0,\n",
      "  \"snap_shot__available_credit\": 0.0,\n",
      "  \"snap_shot__utilization\": 0.0,\n",
      "  \"snap_shot__date_of_oldest_trade\": \"2020-04-08\",\n",
      "  \"snap_shot__age_of_credit\": 4.9,\n",
      "  \"snap_shot__total_open_installment_accounts\": 1,\n",
      "  \"snap_shot__total_open_collection_accounts\": 3,\n",
      "  \"snap_shot__total_open_mortgage_accounts\": 0,\n",
      "  \"snap_shot__total_open_revolving_accounts\": 0,\n",
      "  \"snap_shot__total_open_other_accounts\": 2,\n",
      "  \"snap_shot__balance_open_installment_accounts\": 8080,\n",
      "  \"snap_shot__balance_open_collection_accounts\": 4491,\n",
      "  \"snap_shot__balance_open_mortgage_accounts\": 0,\n",
      "  \"snap_shot__balance_open_revolving_accounts\": 0,\n",
      "  \"snap_shot__balance_open_other_accounts\": 0,\n",
      "  \"snap_shot__on_time_payment_percentage\": \"77.78%\",\n",
      "  \"snap_shot__late_payment_percentage\": \"22.22%\",\n",
      "  \"thin_file__description\": null,\n",
      "  \"vantage_score3\": 517,\n",
      "  \"vantage_score_category\": \"Poor\"\n",
      "}\n",
      "\n",
      "Ensure the final response includes all pertinent details and recommendations in the specified format.\n",
      "\n"
     ]
    }
   ],
   "source": [
    "print(user_prompt)"
   ]
  },
  {
   "cell_type": "code",
   "execution_count": 119,
   "metadata": {},
   "outputs": [],
   "source": [
    "response = get_top5(system_prompt,user_prompt,model='gpt-3.5-turbo-0125')"
   ]
  },
  {
   "cell_type": "code",
   "execution_count": 120,
   "metadata": {},
   "outputs": [
    {
     "name": "stdout",
     "output_type": "stream",
     "text": [
      "Credit Score Analysis:\n",
      "\n",
      "Score Health: Poor\n",
      "\n",
      "Key Negative Factors:\n",
      "1. Delinquent Accounts: 2 delinquent accounts impacting the score.\n",
      "2. Lack of Open Revolving Accounts: No open revolving accounts which can affect credit utilization.\n",
      "3. Late Payment Percentage: 22.22% late payment rate.\n",
      "\n",
      "Positive Factors (or Less Negative):\n",
      "1. On-Time Payment Percentage: 77.78% on-time payments demonstrate some responsible credit behavior.\n",
      "2. Age of Credit: Credit accounts have an average age of 4.9 years, which is relatively stable.\n",
      "\n",
      "What Might Help Improve the Score:\n",
      "1. Address Delinquent Accounts: Focus on resolving the 2 delinquent accounts to stop further negative impact.\n",
      "2. Establish Revolving Accounts: Consider opening a secured credit card to improve credit utilization.\n",
      "3. Improve Payment Timeliness: Strive to make all future payments on time to reduce the late payment percentage.\n",
      "\n",
      "Conclusion:\n",
      "The credit score of 517 is currently categorized as poor due to delinquent accounts, late payments, and a lack of open revolving accounts. By addressing delinquencies, adding revolving accounts, and consistently making on-time payments, there is potential to improve the credit score over time. Taking proactive steps towards these recommendations can lead to a better credit standing in the future.\n"
     ]
    }
   ],
   "source": [
    "print(response.choices[0].message.content)"
   ]
  },
  {
   "cell_type": "markdown",
   "metadata": {},
   "source": [
    "## Attempt 3: gpt-4o-mini, format by O1"
   ]
  },
  {
   "cell_type": "code",
   "execution_count": 117,
   "metadata": {},
   "outputs": [],
   "source": [
    "response = get_top5(system_prompt,user_prompt,model='gpt-4o-mini')"
   ]
  },
  {
   "cell_type": "code",
   "execution_count": 118,
   "metadata": {},
   "outputs": [
    {
     "name": "stdout",
     "output_type": "stream",
     "text": [
      "**Score Health**  \n",
      "Your current VantageScore 3 is 517, which falls into the \"Poor\" category. This indicates significant challenges in your credit profile.\n",
      "\n",
      "**Key Negative Factors**  \n",
      "- **Late Payments**: 22.22% of your payments are late, which directly impacts your score negatively.\n",
      "- **Delinquent Accounts**: You have 2 delinquent accounts that are affecting your credit standing.\n",
      "- **Collections**: There are 3 open collection accounts with a total balance of $4,491.\n",
      "- **Lack of Revolving Accounts**: You have no open revolving accounts, which is crucial for improving your score and credit mix.\n",
      "\n",
      "**Positive Factors (or Less Negative)**  \n",
      "- **Number of Accounts**: You have a total of 12 accounts, which shows some diversity.\n",
      "- **Age of Credit**: Your average credit age is 4.9 years, indicating some credit history.\n",
      "- **Closed Accounts**: Having a closed account history (6 closed accounts) may not be negative, depending on how they were managed.\n",
      "\n",
      "**What Might Help Improve the Score**  \n",
      "1. **Make On-Time Payments**: Focus on paying all current and future debts on time to boost your on-time payment percentage.\n",
      "2. **Resolve Collections**: Work on settling or negotiating the collection accounts to reduce the outstanding balance and improve your credit profile.\n",
      "3. **Open a Revolving Account**: Consider applying for a secured credit card to build or improve your credit utilization and mix of credit types.\n",
      "4. **Limit New Inquiries**: Avoid applying for new credit frequently, as you have 5 inquiries, which can also negatively affect your score.\n",
      "\n",
      "**Conclusion**  \n",
      "Improving your credit score requires consistent financial habits and addressing existing issues. Start by making all payments on time and focusing on resolving collection accounts. Additionally, opening a revolving credit account could provide a buffer to enhance your credit mix and utilization ratio. These steps will help to make gradual improvements over time towards a healthier credit score.\n"
     ]
    }
   ],
   "source": [
    "print(response.choices[0].message.content)"
   ]
  },
  {
   "cell_type": "markdown",
   "metadata": {},
   "source": [
    "# JSON mode"
   ]
  },
  {
   "cell_type": "markdown",
   "metadata": {},
   "source": [
    "## Attempt 4: gpt-4o-mini, json mode"
   ]
  },
  {
   "cell_type": "code",
   "execution_count": 10,
   "metadata": {},
   "outputs": [],
   "source": [
    "system_prompt = \"\"\"\n",
    "Please analyze the credit score data provided above and generate a concise, user-friendly explanation of the credit situation. \n",
    "Your response must be in valid JSON format and include only the following keys:\n",
    "{\n",
    "  \"Score Health\": \"\",\n",
    "  \"Key Negative Factors\": [],\n",
    "  \"Positive Factors (or Less Negative)\": [],\n",
    "  \"What Might Help Improve the Score\": [],\n",
    "  \"Conclusion\": \"\"\n",
    "}\n",
    "\n",
    "Focus on late payments, collections, the lack of open revolving accounts, and other important factors that contribute to a VantageScore 3. \n",
    "Provide clear, actionable steps to help improve the score. \n",
    "\"\"\""
   ]
  },
  {
   "cell_type": "code",
   "execution_count": 11,
   "metadata": {},
   "outputs": [],
   "source": [
    "user_prompt = \"\"\"\n",
    "You are a credit analysis assistant. You are given a detailed credit report and must provide an expert summary and recommendations in a specific, structured format. \n",
    "\n",
    "You must:\n",
    "1. Use the credit score data to inform your analysis. \n",
    "2. Clearly highlight any issues that could be impacting the user’s credit score (e.g., delinquent accounts, late payments, collections).\n",
    "3. List any positive or less negative elements (e.g., age of credit, on-time payments, account diversity).\n",
    "4. Provide recommendations for improving the score, focusing on actionable steps (e.g., addressing collections, making on-time payments, adding a secured card).\n",
    "5. Write concisely in plain language. \n",
    "6. Do not reveal or explain your internal chain of thought. Present only the final written content.\n",
    "\n",
    "Here is the credit score data you will use for your analysis:\n",
    "\n",
    "{\n",
    "  \"_id\": \"66ec502cc0b33822acefb102\",\n",
    "  \"user_id\": \"6515c12f1ddcd17a423751ee\",\n",
    "  \"user_email\": \"399777dcde15a99f492a3f21b4b26e5e3127d2512f71e0cb0e6f568d7eb43e06\",\n",
    "  \"created_at\": \"2024-09-19 16:24:12.712\",\n",
    "  \"credit_report_frozen\": false,\n",
    "  \"deleted\": false,\n",
    "  \"is_enrolled\": true,\n",
    "  \"updated_at\": \"2025-02-21 07:30:59.182\",\n",
    "  \"population_rank\": 10,\n",
    "  \"snap_shot__open_accounts\": 6,\n",
    "  \"snap_shot__total_closed_accounts\": null,\n",
    "  \"snap_shot__closed_accounts\": 6,\n",
    "  \"snap_shot__total_accounts\": 12,\n",
    "  \"snap_shot__delinquent_accounts\": 2,\n",
    "  \"snap_shot__derogatory_accounts\": 4,\n",
    "  \"snap_shot__total_balances\": 12802.0,\n",
    "  \"snap_shot__total_monthly_payments\": 291,\n",
    "  \"snap_shot__number_of_inquiries\": 5,\n",
    "  \"snap_shot__total_public_records\": 0,\n",
    "  \"snap_shot__available_credit\": 0.0,\n",
    "  \"snap_shot__utilization\": 0.0,\n",
    "  \"snap_shot__date_of_oldest_trade\": \"2020-04-08\",\n",
    "  \"snap_shot__age_of_credit\": 4.9,\n",
    "  \"snap_shot__total_open_installment_accounts\": 1,\n",
    "  \"snap_shot__total_open_collection_accounts\": 3,\n",
    "  \"snap_shot__total_open_mortgage_accounts\": 0,\n",
    "  \"snap_shot__total_open_revolving_accounts\": 0,\n",
    "  \"snap_shot__total_open_other_accounts\": 2,\n",
    "  \"snap_shot__balance_open_installment_accounts\": 8080,\n",
    "  \"snap_shot__balance_open_collection_accounts\": 4491,\n",
    "  \"snap_shot__balance_open_mortgage_accounts\": 0,\n",
    "  \"snap_shot__balance_open_revolving_accounts\": 0,\n",
    "  \"snap_shot__balance_open_other_accounts\": 0,\n",
    "  \"snap_shot__on_time_payment_percentage\": \"77.78%\",\n",
    "  \"snap_shot__late_payment_percentage\": \"22.22%\",\n",
    "  \"thin_file__description\": null,\n",
    "  \"vantage_score3\": 517,\n",
    "  \"vantage_score_category\": \"Poor\"\n",
    "}\n",
    "\n",
    "Ensure the final response includes all pertinent details and recommendations in the specified format.\n",
    "\"\"\""
   ]
  },
  {
   "cell_type": "code",
   "execution_count": 12,
   "metadata": {},
   "outputs": [
    {
     "name": "stdout",
     "output_type": "stream",
     "text": [
      "{\n",
      "  \"Score Health\": \"Poor\",\n",
      "  \"Key Negative Factors\": [\n",
      "    \"Delinquent accounts: 2\",\n",
      "    \"Derogatory accounts: 4\",\n",
      "    \"Late payment percentage: 22.22%\",\n",
      "    \"No open revolving accounts\",\n",
      "    \"High balance on collection accounts\"\n",
      "  ],\n",
      "  \"Positive Factors (or Less Negative)\": [\n",
      "    \"Age of credit: 4.9 years\",\n",
      "    \"On-time payment percentage: 77.78%\",\n",
      "    \"Total accounts: 12\"\n",
      "  ],\n",
      "  \"What Might Help Improve the Score\": [\n",
      "    \"Address delinquent and derogatory accounts by making payments or negotiating with creditors\",\n",
      "    \"Establish one or more open revolving accounts, such as a secured credit card\",\n",
      "    \"Reduce the balances on collection accounts through repayment plans\",\n",
      "    \"Ensure all future payments are made on time to improve on-time payment percentage\"\n",
      "  ],\n",
      "  \"Conclusion\": \"Your credit score is currently poor due to a combination of delinquent accounts, derogatory marks, and the absence of revolving credit. Focusing on addressing negative accounts and building a positive credit history with on-time payments and new revolving credit can significantly improve your score over time.\"\n",
      "}\n"
     ]
    }
   ],
   "source": [
    "response = get_top5(system_prompt,user_prompt,model='gpt-4o-mini')\n",
    "print(response.choices[0].message.content)"
   ]
  },
  {
   "cell_type": "code",
   "execution_count": 13,
   "metadata": {},
   "outputs": [
    {
     "data": {
      "text/plain": [
       "'Poor'"
      ]
     },
     "execution_count": 13,
     "metadata": {},
     "output_type": "execute_result"
    }
   ],
   "source": [
    "result_json = json.loads(response.choices[0].message.content)\n",
    "result_json['Score Health']"
   ]
  },
  {
   "cell_type": "markdown",
   "metadata": {},
   "source": [
    "## Attempt 5: gpt-4o-mini, json mode, add instructions to get better response"
   ]
  },
  {
   "cell_type": "code",
   "execution_count": 50,
   "metadata": {},
   "outputs": [],
   "source": [
    "system_prompt = \"\"\"\n",
    "You are a warm, empathetic credit analysis with expertise in VantageScore 3.0. You are given credit score data and must produce a concise, user-friendly explanation of the credit situation in valid JSON. \n",
    "The style of your response should be encouraging and supportive, while still communicating important details and actionable steps. \n",
    "\n",
    "Your response must use exactly the following JSON structure and keys (no extra keys or nesting):\n",
    "{\n",
    "  \"Score Health\": \"\",\n",
    "  \"Key Negative Factors\": [],\n",
    "  \"Positive Factors (or Less Negative)\": [],\n",
    "  \"What Might Help Improve the Score\": [],\n",
    "  \"Conclusion\": \"\",\n",
    "  \"Summary\": \"\"\n",
    "}\n",
    "\n",
    "Important:\n",
    "1. Keep the JSON valid—no additional fields or text outside of the JSON object.\n",
    "2. Use an empathetic yet clear tone. \n",
    "3. Do not just give a value. Elaborate each point in a concise way\n",
    "4. Provide specific details about factors affecting credit score and easy to understand explanation.\n",
    "5. Focus more on factors that have greater impact on credit score\n",
    "6. in each factor, give the factor values before writing the explanation\n",
    "7. Offer actionable recommendations in the \"What Might Help Improve the Score\" section.\n",
    "8. Keep each list entry short but supportive, avoiding overly dry or blunt language, and elaborate each point in a concise way on why is the factor important\n",
    "9. Focus on empowering the user to take steps that improve their credit score.\n",
    "\n",
    "\"\"\""
   ]
  },
  {
   "cell_type": "code",
   "execution_count": 51,
   "metadata": {},
   "outputs": [],
   "source": [
    "user_prompt = \"\"\"\n",
    "Analyze the following credit score data and produce an output in valid JSON format (using the keys defined in the system prompt). Incorporate an empathetic, encouraging tone while providing a detailed breakdown of the credit situation and clear recommendations:\n",
    "\n",
    "{\n",
    "  \"_id\": \"66ec502cc0b33822acefb102\",\n",
    "  \"user_id\": \"6515c12f1ddcd17a423751ee\",\n",
    "  \"user_email\": \"399777dcde15a99f492a3f21b4b26e5e3127d2512f71e0cb0e6f568d7eb43e06\",\n",
    "  \"created_at\": \"2024-09-19 16:24:12.712\",\n",
    "  \"credit_report_frozen\": false,\n",
    "  \"deleted\": false,\n",
    "  \"is_enrolled\": true,\n",
    "  \"updated_at\": \"2025-02-21 07:30:59.182\",\n",
    "  \"population_rank\": 10,\n",
    "  \"snap_shot__open_accounts\": 6,\n",
    "  \"snap_shot__total_closed_accounts\": null,\n",
    "  \"snap_shot__closed_accounts\": 6,\n",
    "  \"snap_shot__total_accounts\": 12,\n",
    "  \"snap_shot__delinquent_accounts\": 2,\n",
    "  \"snap_shot__derogatory_accounts\": 4,\n",
    "  \"snap_shot__total_balances\": 12802.0,\n",
    "  \"snap_shot__total_monthly_payments\": 291,\n",
    "  \"snap_shot__number_of_inquiries\": 5,\n",
    "  \"snap_shot__total_public_records\": 0,\n",
    "  \"snap_shot__available_credit\": 0.0,\n",
    "  \"snap_shot__utilization\": 0.0,\n",
    "  \"snap_shot__date_of_oldest_trade\": \"2020-04-08\",\n",
    "  \"snap_shot__age_of_credit\": 4.9,\n",
    "  \"snap_shot__total_open_installment_accounts\": 1,\n",
    "  \"snap_shot__total_open_collection_accounts\": 3,\n",
    "  \"snap_shot__total_open_mortgage_accounts\": 0,\n",
    "  \"snap_shot__total_open_revolving_accounts\": 0,\n",
    "  \"snap_shot__total_open_other_accounts\": 2,\n",
    "  \"snap_shot__balance_open_installment_accounts\": 8080,\n",
    "  \"snap_shot__balance_open_collection_accounts\": 4491,\n",
    "  \"snap_shot__balance_open_mortgage_accounts\": 0,\n",
    "  \"snap_shot__balance_open_revolving_accounts\": 0,\n",
    "  \"snap_shot__balance_open_other_accounts\": 0,\n",
    "  \"snap_shot__on_time_payment_percentage\": \"77.78%\",\n",
    "  \"snap_shot__late_payment_percentage\": \"22.22%\",\n",
    "  \"thin_file__description\": null,\n",
    "  \"vantage_score3\": 517,\n",
    "  \"vantage_score_category\": \"Poor\"\n",
    "}\n",
    "\n",
    "Please ensure your final answer is supportive, understandable, and presented solely as a JSON object with the specified structure.\n",
    "\"\"\""
   ]
  },
  {
   "cell_type": "code",
   "execution_count": 52,
   "metadata": {},
   "outputs": [
    {
     "name": "stdout",
     "output_type": "stream",
     "text": [
      "{\n",
      "  \"Score Health\": \"Your current credit score is 517, placing you in the 'Poor' category. This indicates there are several areas for improvement we can work on together.\",\n",
      "  \"Key Negative Factors\": [\n",
      "    \"Delinquent Accounts: 2 - These accounts have not been paid as agreed, which negatively impacts your score.\",\n",
      "    \"Derogatory Accounts: 4 - These accounts reflect serious issues like defaults or charge-offs, making it harder to get new credit.\",\n",
      "    \"High Balance on Installment Accounts: $8,080 - A high outstanding balance can suggest a risk to lenders.\",\n",
      "    \"Late Payment Percentage: 22.22% - Missing payments can significantly hurt your score, as it reflects negatively on your credit responsibility.\"\n",
      "  ],\n",
      "  \"Positive Factors (or Less Negative)\": [\n",
      "    \"On-Time Payment Percentage: 77.78% - You have managed to make most of your payments on time, which is a great foundation to build on.\",\n",
      "    \"Credit Age: 4.9 years - A longer credit history can work in your favor, especially if you keep improving your payment habits.\"\n",
      "  ],\n",
      "  \"What Might Help Improve the Score\": [\n",
      "    \"Pay Down Delinquent Accounts - Focus on addressing those 2 delinquent accounts to help improve your overall credit standing.\",\n",
      "    \"Set Up a Payment Plan - Consider working with creditors to arrange manageable payment plans for your outstanding balances.\",\n",
      "    \"Make Payments on Time - Aim to consistently pay all your bills on time; even small amounts can help improve your score over time.\",\n",
      "    \"Limit New Credit Inquiries - Try to avoid opening new accounts right now, as each inquiry can have a temporary negative impact on your score.\"\n",
      "  ],\n",
      "  \"Conclusion\": \"While your current score may feel discouraging, with deliberate efforts and a bit of time, you can absolutely improve it. Every step you take counts!\",\n",
      "  \"Summary\": \"You are currently facing challenges with delinquent and derogatory accounts, but you've shown great reliability with most payments. Focusing on addressing past due debts and making timely payments will empower you to gradually build up your credit score.\"\n",
      "}\n"
     ]
    }
   ],
   "source": [
    "response = get_top5(system_prompt,user_prompt,model='gpt-4o-mini')\n",
    "print(response.choices[0].message.content)"
   ]
  },
  {
   "cell_type": "code",
   "execution_count": 53,
   "metadata": {},
   "outputs": [
    {
     "data": {
      "text/plain": [
       "{'Score Health': \"Your current credit score is 517, placing you in the 'Poor' category. This indicates there are several areas for improvement we can work on together.\",\n",
       " 'Key Negative Factors': ['Delinquent Accounts: 2 - These accounts have not been paid as agreed, which negatively impacts your score.',\n",
       "  'Derogatory Accounts: 4 - These accounts reflect serious issues like defaults or charge-offs, making it harder to get new credit.',\n",
       "  'High Balance on Installment Accounts: $8,080 - A high outstanding balance can suggest a risk to lenders.',\n",
       "  'Late Payment Percentage: 22.22% - Missing payments can significantly hurt your score, as it reflects negatively on your credit responsibility.'],\n",
       " 'Positive Factors (or Less Negative)': ['On-Time Payment Percentage: 77.78% - You have managed to make most of your payments on time, which is a great foundation to build on.',\n",
       "  'Credit Age: 4.9 years - A longer credit history can work in your favor, especially if you keep improving your payment habits.'],\n",
       " 'What Might Help Improve the Score': ['Pay Down Delinquent Accounts - Focus on addressing those 2 delinquent accounts to help improve your overall credit standing.',\n",
       "  'Set Up a Payment Plan - Consider working with creditors to arrange manageable payment plans for your outstanding balances.',\n",
       "  'Make Payments on Time - Aim to consistently pay all your bills on time; even small amounts can help improve your score over time.',\n",
       "  'Limit New Credit Inquiries - Try to avoid opening new accounts right now, as each inquiry can have a temporary negative impact on your score.'],\n",
       " 'Conclusion': 'While your current score may feel discouraging, with deliberate efforts and a bit of time, you can absolutely improve it. Every step you take counts!',\n",
       " 'Summary': \"You are currently facing challenges with delinquent and derogatory accounts, but you've shown great reliability with most payments. Focusing on addressing past due debts and making timely payments will empower you to gradually build up your credit score.\"}"
      ]
     },
     "execution_count": 53,
     "metadata": {},
     "output_type": "execute_result"
    }
   ],
   "source": [
    "result_json = json.loads(response.choices[0].message.content)\n",
    "# result_json['Key Negative Factors']\n",
    "result_json"
   ]
  },
  {
   "cell_type": "markdown",
   "metadata": {},
   "source": [
    "## Attempt 6: gpt-4o-mini, change section name"
   ]
  },
  {
   "cell_type": "code",
   "execution_count": null,
   "metadata": {},
   "outputs": [],
   "source": [
    "system_prompt = \"\"\"\n",
    "You are a warm, empathetic credit analysis with expertise in VantageScore 3.0. You are given credit score data and must produce a concise, user-friendly explanation of the credit situation in valid JSON. \n",
    "The style of your response should be encouraging and supportive, while still communicating important details and actionable steps. \n",
    "\n",
    "Your response must use exactly the following JSON structure and keys (no extra keys or nesting):\n",
    "{\n",
    "  \"Score Health\": \"\",\n",
    "  \"What's dragging down your score?\": [],\n",
    "  \"What's boosting your score?\": [],\n",
    "  \"What might help improve the score?\": [],\n",
    "  \"Conclusion\": \"\",\n",
    "  \"Summary\": \"\"\n",
    "}\n",
    "\n",
    "Important:\n",
    "1. Keep the JSON valid—no additional fields or text outside of the JSON object.\n",
    "2. Use an empathetic yet clear tone. \n",
    "3. Do not just give a value. Elaborate each point in a concise way\n",
    "4. Provide specific details about factors affecting credit score and easy to understand explanation.\n",
    "5. Focus more on factors that have greater impact on credit score\n",
    "6. in each factor, give the factor values before writing the explanation\n",
    "7. Offer actionable recommendations in the \"What Might Help Improve the Score\" section.\n",
    "8. Keep each list entry short but supportive, avoiding overly dry or blunt language, and elaborate each point in a concise way on why is the factor important\n",
    "9. Focus on empowering the user to take steps that improve their credit score.\n",
    "\"\"\""
   ]
  },
  {
   "cell_type": "code",
   "execution_count": 55,
   "metadata": {},
   "outputs": [],
   "source": [
    "user_prompt = \"\"\"\n",
    "Analyze the following credit score data and produce an output in valid JSON format (using the keys defined in the system prompt). Incorporate an empathetic, encouraging tone while providing a detailed breakdown of the credit situation and clear recommendations:\n",
    "\n",
    "{\n",
    "  \"_id\": \"66ec502cc0b33822acefb102\",\n",
    "  \"user_id\": \"6515c12f1ddcd17a423751ee\",\n",
    "  \"user_email\": \"399777dcde15a99f492a3f21b4b26e5e3127d2512f71e0cb0e6f568d7eb43e06\",\n",
    "  \"created_at\": \"2024-09-19 16:24:12.712\",\n",
    "  \"credit_report_frozen\": false,\n",
    "  \"deleted\": false,\n",
    "  \"is_enrolled\": true,\n",
    "  \"updated_at\": \"2025-02-21 07:30:59.182\",\n",
    "  \"population_rank\": 10,\n",
    "  \"snap_shot__open_accounts\": 6,\n",
    "  \"snap_shot__total_closed_accounts\": null,\n",
    "  \"snap_shot__closed_accounts\": 6,\n",
    "  \"snap_shot__total_accounts\": 12,\n",
    "  \"snap_shot__delinquent_accounts\": 2,\n",
    "  \"snap_shot__derogatory_accounts\": 4,\n",
    "  \"snap_shot__total_balances\": 12802.0,\n",
    "  \"snap_shot__total_monthly_payments\": 291,\n",
    "  \"snap_shot__number_of_inquiries\": 5,\n",
    "  \"snap_shot__total_public_records\": 0,\n",
    "  \"snap_shot__available_credit\": 0.0,\n",
    "  \"snap_shot__utilization\": 0.0,\n",
    "  \"snap_shot__date_of_oldest_trade\": \"2020-04-08\",\n",
    "  \"snap_shot__age_of_credit\": 4.9,\n",
    "  \"snap_shot__total_open_installment_accounts\": 1,\n",
    "  \"snap_shot__total_open_collection_accounts\": 3,\n",
    "  \"snap_shot__total_open_mortgage_accounts\": 0,\n",
    "  \"snap_shot__total_open_revolving_accounts\": 0,\n",
    "  \"snap_shot__total_open_other_accounts\": 2,\n",
    "  \"snap_shot__balance_open_installment_accounts\": 8080,\n",
    "  \"snap_shot__balance_open_collection_accounts\": 4491,\n",
    "  \"snap_shot__balance_open_mortgage_accounts\": 0,\n",
    "  \"snap_shot__balance_open_revolving_accounts\": 0,\n",
    "  \"snap_shot__balance_open_other_accounts\": 0,\n",
    "  \"snap_shot__on_time_payment_percentage\": \"77.78%\",\n",
    "  \"snap_shot__late_payment_percentage\": \"22.22%\",\n",
    "  \"thin_file__description\": null,\n",
    "  \"vantage_score3\": 517,\n",
    "  \"vantage_score_category\": \"Poor\"\n",
    "}\n",
    "\n",
    "Please ensure your final answer is supportive, understandable, and presented solely as a JSON object with the specified structure.\n",
    "\"\"\""
   ]
  },
  {
   "cell_type": "code",
   "execution_count": 57,
   "metadata": {},
   "outputs": [
    {
     "name": "stdout",
     "output_type": "stream",
     "text": [
      "{\n",
      "  \"Score Health\": \"Your current VantageScore is 517, which falls into the 'Poor' category. This indicates that there are significant challenges to overcome to improve your credit health. However, every step you take towards better credit is a positive move.\",\n",
      "  \"What's dragging down your score?\": [\n",
      "    \"Delinquent Accounts: 2 accounts. Having unpaid debts can seriously affect your score, signaling to lenders that you may struggle with repayments.\",\n",
      "    \"Derogatory Accounts: 4 accounts. These negative marks suggest a history of late payments or defaults, making you appear a higher risk to lenders.\",\n",
      "    \"Late Payment Percentage: 22.22%. Missing payments can have a considerable impact on your credit score, as payment history is one of the most critical factors in scoring models.\",\n",
      "    \"No Available Credit: $0. This indicates a lack of open revolving accounts, which can limit your credit utilization and overall score potential.\"\n",
      "  ],\n",
      "  \"What's boosting your score?\": [\n",
      "    \"On-Time Payment Percentage: 77.78%. While there may be some late payments, consistently paying on time overall is notable and can help rebuild your score over time.\",\n",
      "    \"Age of Credit: 4.9 years. A longer credit history can positively influence your score as it shows reliability, even if there are some blemishes.\"\n",
      "  ],\n",
      "  \"What Might Help Improve the Score\": [\n",
      "    \"Address Delinquent Accounts: Make arrangements to pay off or negotiate your delinquent accounts, which can help improve your score over time.\",\n",
      "    \"Focus on Timely Payments: Keep the 77.78% on-time payment rate going strong. Set up reminders or automatic payments to ensure you don’t miss any due dates.\",\n",
      "    \"Consider a Secured Credit Card: If possible, open a secured credit card to increase available credit and improve your credit utilization ratio.\",\n",
      "    \"Regularly Monitor Your Credit Report: Keep an eye on your credit report to track progress and to ensure there are no errors that affect your score.\"\n",
      "  ],\n",
      "  \"Conclusion\": \"Improving your credit score is a journey, and while it may seem overwhelming right now, taking small, consistent steps can lead to significant change. Remember, you're not alone in this process.\",\n",
      "  \"Summary\": \"Focus on resolving your delinquent accounts and maintaining timely payments to enhance your credit health. Explore options like secured credit cards to increase your available credit and keep an eye on your credit report for continuous improvement.\"\n",
      "}\n"
     ]
    }
   ],
   "source": [
    "response = get_top5(system_prompt,user_prompt,model='gpt-4o-mini')\n",
    "print(response.choices[0].message.content)"
   ]
  },
  {
   "cell_type": "code",
   "execution_count": null,
   "metadata": {},
   "outputs": [
    {
     "data": {
      "text/plain": [
       "{'Score Health': \"Your current credit score is 517, placing you in the 'Poor' category. This indicates there are several areas for improvement we can work on together.\",\n",
       " 'Key Negative Factors': ['Delinquent Accounts: 2 - These accounts have not been paid as agreed, which negatively impacts your score.',\n",
       "  'Derogatory Accounts: 4 - These accounts reflect serious issues like defaults or charge-offs, making it harder to get new credit.',\n",
       "  'High Balance on Installment Accounts: $8,080 - A high outstanding balance can suggest a risk to lenders.',\n",
       "  'Late Payment Percentage: 22.22% - Missing payments can significantly hurt your score, as it reflects negatively on your credit responsibility.'],\n",
       " 'Positive Factors (or Less Negative)': ['On-Time Payment Percentage: 77.78% - You have managed to make most of your payments on time, which is a great foundation to build on.',\n",
       "  'Credit Age: 4.9 years - A longer credit history can work in your favor, especially if you keep improving your payment habits.'],\n",
       " 'What Might Help Improve the Score': ['Pay Down Delinquent Accounts - Focus on addressing those 2 delinquent accounts to help improve your overall credit standing.',\n",
       "  'Set Up a Payment Plan - Consider working with creditors to arrange manageable payment plans for your outstanding balances.',\n",
       "  'Make Payments on Time - Aim to consistently pay all your bills on time; even small amounts can help improve your score over time.',\n",
       "  'Limit New Credit Inquiries - Try to avoid opening new accounts right now, as each inquiry can have a temporary negative impact on your score.'],\n",
       " 'Conclusion': 'While your current score may feel discouraging, with deliberate efforts and a bit of time, you can absolutely improve it. Every step you take counts!',\n",
       " 'Summary': \"You are currently facing challenges with delinquent and derogatory accounts, but you've shown great reliability with most payments. Focusing on addressing past due debts and making timely payments will empower you to gradually build up your credit score.\"}"
      ]
     },
     "metadata": {},
     "output_type": "display_data"
    }
   ],
   "source": [
    "result_json = json.loads(response.choices[0].message.content)\n",
    "# result_json['Key Negative Factors']\n",
    "result_json"
   ]
  },
  {
   "cell_type": "markdown",
   "metadata": {},
   "source": [
    "# 5 users"
   ]
  },
  {
   "cell_type": "code",
   "execution_count": 8,
   "metadata": {},
   "outputs": [],
   "source": [
    "df_5 = df_1000[:5]\n",
    "df_5_json = json.loads(df_5.to_json(orient='records'))"
   ]
  },
  {
   "cell_type": "code",
   "execution_count": null,
   "metadata": {},
   "outputs": [
    {
     "name": "stderr",
     "output_type": "stream",
     "text": [
      "100%|██████████| 5/5 [00:00<00:00, 2759.41it/s]\n"
     ]
    }
   ],
   "source": [
    "from llm import get_credit_improvement, calculate_accuracy_metrics\n",
    "responses = await get_credit_improvement(df_5_json)"
   ]
  },
  {
   "cell_type": "markdown",
   "metadata": {},
   "source": [
    "## post process output"
   ]
  },
  {
   "cell_type": "markdown",
   "metadata": {},
   "source": [
    "Note that `post process output` and `define evaluation metrics` are using pandas dataframe for development purpose. The use of lambda function is not efficient in large scale data\n",
    "<br></br>\n",
    "A proper calculate metrics function is defined later in the `calculate metrics` section"
   ]
  },
  {
   "cell_type": "code",
   "execution_count": 11,
   "metadata": {},
   "outputs": [
    {
     "data": {
      "application/vnd.microsoft.datawrangler.viewer.v0+json": {
       "columns": [
        {
         "name": "index",
         "rawType": "int64",
         "type": "integer"
        },
        {
         "name": "_id",
         "rawType": "object",
         "type": "string"
        },
        {
         "name": "user_id",
         "rawType": "object",
         "type": "string"
        },
        {
         "name": "user_email",
         "rawType": "object",
         "type": "string"
        },
        {
         "name": "created_at",
         "rawType": "object",
         "type": "string"
        },
        {
         "name": "credit_report_frozen",
         "rawType": "bool",
         "type": "boolean"
        },
        {
         "name": "deleted",
         "rawType": "bool",
         "type": "boolean"
        },
        {
         "name": "is_enrolled",
         "rawType": "bool",
         "type": "boolean"
        },
        {
         "name": "updated_at",
         "rawType": "object",
         "type": "string"
        },
        {
         "name": "population_rank",
         "rawType": "int64",
         "type": "integer"
        },
        {
         "name": "snap_shot__open_accounts",
         "rawType": "int64",
         "type": "integer"
        },
        {
         "name": "snap_shot__total_closed_accounts",
         "rawType": "float64",
         "type": "float"
        },
        {
         "name": "snap_shot__closed_accounts",
         "rawType": "int64",
         "type": "integer"
        },
        {
         "name": "snap_shot__total_accounts",
         "rawType": "int64",
         "type": "integer"
        },
        {
         "name": "snap_shot__delinquent_accounts",
         "rawType": "int64",
         "type": "integer"
        },
        {
         "name": "snap_shot__derogatory_accounts",
         "rawType": "int64",
         "type": "integer"
        },
        {
         "name": "snap_shot__total_balances",
         "rawType": "float64",
         "type": "float"
        },
        {
         "name": "snap_shot__total_monthly_payments",
         "rawType": "int64",
         "type": "integer"
        },
        {
         "name": "snap_shot__number_of_inquiries",
         "rawType": "int64",
         "type": "integer"
        },
        {
         "name": "snap_shot__total_public_records",
         "rawType": "int64",
         "type": "integer"
        },
        {
         "name": "snap_shot__available_credit",
         "rawType": "float64",
         "type": "float"
        },
        {
         "name": "snap_shot__utilization",
         "rawType": "float64",
         "type": "float"
        },
        {
         "name": "snap_shot__date_of_oldest_trade",
         "rawType": "object",
         "type": "string"
        },
        {
         "name": "snap_shot__age_of_credit",
         "rawType": "float64",
         "type": "float"
        },
        {
         "name": "snap_shot__total_open_installment_accounts",
         "rawType": "int64",
         "type": "integer"
        },
        {
         "name": "snap_shot__total_open_collection_accounts",
         "rawType": "int64",
         "type": "integer"
        },
        {
         "name": "snap_shot__total_open_mortgage_accounts",
         "rawType": "int64",
         "type": "integer"
        },
        {
         "name": "snap_shot__total_open_revolving_accounts",
         "rawType": "int64",
         "type": "integer"
        },
        {
         "name": "snap_shot__total_open_other_accounts",
         "rawType": "int64",
         "type": "integer"
        },
        {
         "name": "snap_shot__balance_open_installment_accounts",
         "rawType": "int64",
         "type": "integer"
        },
        {
         "name": "snap_shot__balance_open_collection_accounts",
         "rawType": "int64",
         "type": "integer"
        },
        {
         "name": "snap_shot__balance_open_mortgage_accounts",
         "rawType": "int64",
         "type": "integer"
        },
        {
         "name": "snap_shot__balance_open_revolving_accounts",
         "rawType": "int64",
         "type": "integer"
        },
        {
         "name": "snap_shot__balance_open_other_accounts",
         "rawType": "int64",
         "type": "integer"
        },
        {
         "name": "snap_shot__on_time_payment_percentage",
         "rawType": "object",
         "type": "string"
        },
        {
         "name": "snap_shot__late_payment_percentage",
         "rawType": "object",
         "type": "string"
        },
        {
         "name": "thin_file__description",
         "rawType": "object",
         "type": "unknown"
        },
        {
         "name": "vantage_score3",
         "rawType": "int64",
         "type": "integer"
        },
        {
         "name": "vantage_score_category",
         "rawType": "category",
         "type": "unknown"
        },
        {
         "name": "Score Health",
         "rawType": "object",
         "type": "string"
        },
        {
         "name": "What's dragging down your score?",
         "rawType": "object",
         "type": "unknown"
        },
        {
         "name": "What's boosting your score?",
         "rawType": "object",
         "type": "unknown"
        },
        {
         "name": "What might help improve the score?",
         "rawType": "object",
         "type": "unknown"
        },
        {
         "name": "Conclusion",
         "rawType": "object",
         "type": "string"
        },
        {
         "name": "Summary",
         "rawType": "object",
         "type": "string"
        }
       ],
       "conversionMethod": "pd.DataFrame",
       "ref": "69e30e28-8c8e-4df7-802d-75fce6554910",
       "rows": [
        [
         "0",
         "66ec26e2c0b33822acecbca5",
         "66ec25713804f60b406c5dca",
         "a46b2854647b839cd1caaa912457b636a7a9c9373d3fb1f08b8ca5f20096b7c7",
         "2024-09-19 13:28:02.711",
         "False",
         "False",
         "True",
         "2025-02-21 07:27:23.232",
         "2",
         "5",
         null,
         "8",
         "13",
         "1",
         "9",
         "15083.0",
         "520",
         "9",
         "0",
         "0.0",
         "0.0",
         "2021-03-19",
         "3.9",
         "0",
         "5",
         "0",
         "0",
         "0",
         "0",
         "8447",
         "0",
         "0",
         "0",
         "87.5%",
         "12.5%",
         null,
         "460",
         "Poor",
         "Your current VantageScore 3.0 is 460, which falls into the 'Poor' category. While this can feel discouraging, it's important to know that many people improve their scores over time with focused steps.",
         "['Delinquent Accounts: 1 account is delinquent, meaning payments have been missed, which can significantly impact your score.', 'Derogatory Accounts: 9 accounts have negative marks, suggesting serious issues that may deter lenders from extending credit.', 'Number of Inquiries: You have 9 hard inquiries on your report, which can indicate a risky profile to lenders and lead to score penalties.', 'Open Collection Accounts: 5 accounts are in collections, showing unpaid debts that negatively affect your credit standing.']",
         "['On-time Payment Percentage: 87.5% of your payments are made on time, reflecting a generally positive payment history.', \"Age of Credit: With a credit age of 3.9 years, it's clear you've been managing credit for a while, which can benefit your score when improved.\"]",
         "['Address Delinquencies: Focus on catching up with your delinquent account to start improving your score immediately.', 'Reduce Collections: Reach out to creditors regarding your collection accounts and see if there are options for settlement or repayment plans.', 'Limit New Applications: Consider pausing on new credit applications to decrease the number of hard inquiries on your report.', 'Increase On-time Payments: Keep maintaining and improving on-time payments to further boost your payment history percentage.']",
         "Improving your credit score is a journey that takes effort and time, but the steps outlined above can greatly assist you in making positive changes.",
         "While there are factors currently holding your score back, focusing on addressing delinquencies, managing collections, and keeping up with payments can pave the way to a healthier credit profile. Remember, every small step you take can lead to significant improvements!"
        ],
        [
         "1",
         "66ec271ed58ccf36a23748a4",
         "627300afba62be4a28ca17ba",
         "049a9f1d119ced7afb64fb9e8a7f8ce07189e7ba7099967cb6f35e5b6a71c037",
         "2024-09-19 13:29:02.255",
         "False",
         "False",
         "True",
         "2025-02-21 07:27:24.195",
         "5",
         "4",
         null,
         "1",
         "5",
         "1",
         "2",
         "1357.0",
         "160",
         "3",
         "0",
         "-112.0",
         "1.448",
         "2022-01-31",
         "3.1",
         "0",
         "1",
         "0",
         "1",
         "2",
         "0",
         "580",
         "0",
         "362",
         "0",
         "75%",
         "25%",
         null,
         "499",
         "Poor",
         "Your current VantageScore 3.0 is 499, which falls within the 'Poor' category. This indicates that there are areas for improvement, but with some attention, you can work towards better credit health.",
         "['Delinquent Accounts: 1 - Having a delinquent account can significantly harm your score as it suggests missed payments.', 'Derogatory Accounts: 2 - Multiple derogatory marks reflect negatively and indicate serious credit management issues.', 'High Credit Utilization: 1.448 - This means you are utilizing more credit than you have available, which is a major red flag for credit scoring models.', 'Late Payment Percentage: 25% - A quarter of your payments being late can lower your score and reflects a pattern of missed deadlines.']",
         "['On-time Payment Percentage: 75% - This is a positive indicator that you are making many of your payments on time, which is crucial for improving your score.', 'Length of Credit History: 3.1 years - A longer history is generally favorable, as it shows more experience with credit management.']",
         "['Reduce Credit Utilization: Focus on paying down your balances, especially the 362 on revolving accounts to lower the utilization ratio under 30%.', 'Address Delinquent Accounts: Make arrangements to settle or bring these accounts current, which could quickly help your score.', 'Minimize New Inquiries: Limit the number of inquiries by holding off on applying for new credit, as too many can suggest risk.', 'Increase On-time Payments: Make a plan to ensure all future payments are made on or before the due date.']",
         "While your current credit situation poses challenges, many aspects can be improved with deliberate steps. Each improvement will contribute positively to your score.",
         "Consider focusing on reducing outstanding balances and improving your payment history as key priorities. Every positive change contributes to a brighter credit future!"
        ],
        [
         "2",
         "66ec272ed58ccf36a23749c7",
         "66ec2608868a9622564d46bb",
         "9bc82cf1f08d07cf0551c8cefbde213eff5ba76fed3f05a50c6ceb67a6de4f31",
         "2024-09-19 13:29:18.628",
         "False",
         "False",
         "True",
         "2025-02-21 07:28:42.751",
         "34",
         "18",
         null,
         "17",
         "35",
         "0",
         "7",
         "77455.0",
         "423",
         "1",
         "0",
         "13.0",
         "0.957",
         "2015-03-27",
         "9.9",
         "15",
         "1",
         "0",
         "1",
         "1",
         "69650",
         "3864",
         "0",
         "287",
         "0",
         "93.94%",
         "6.06%",
         null,
         "610",
         "Fair",
         "Your current credit score is 610, which falls into the 'Fair' category. This indicates you have the potential to improve, and with some focused steps, you can work towards a stronger credit profile.",
         "[\"Derogatory accounts: 7 - These accounts can significantly impact your score as they indicate negative credit behavior. It's important to address these accounts to move forward.\", 'Credit utilization: 95.7% - This high percentage of available credit being used suggests you might be over-reliant on credit. Keeping your utilization below 30% can help raise your score.', 'On-time payment percentage: 93.94% - While good, the 6.06% late payment history may still be affecting your score. Timely payments are crucial for maintaining a positive credit history.']",
         "['On-time payments: 93.94% - Consistently paying your bills on time is a strong positive indicator. Keep up this momentum!', 'Delinquent accounts: 0 - Not having delinquent accounts is fantastic! This shows you are managing your accounts responsibly.', 'Age of credit: 9.9 years - A longer credit history is beneficial. Your established credit accounts should continue contributing positively over time.']",
         "['Reduce credit utilization - Aim to pay down your balances to ideally keep this under 30%. This can create a positive impact on your score.', 'Address derogatory accounts - Review and consider negotiating with creditors on your derogatory accounts to minimize their impact.', 'Ensure timely payments - Maintaining or improving your on-time payment percentage will help to reinforce your creditworthiness.']",
         "With a few dedicated efforts, you can enhance your credit score and enjoy better financial opportunities. Remember, every small step counts!",
         "Your score is in the Fair range at 610. Focus on reducing high credit utilization and addressing derogatory accounts while maintaining on-time payments. Positive changes can lead to an improved score over time!"
        ],
        [
         "3",
         "66ec273ed58ccf36a2374a13",
         "6429bb6efe264063091b97ed",
         "e8973321e28d8a774df7bd9a965b5a9d16d7e88f2f9fdc57dfed53813d749e82",
         "2024-09-19 13:29:34.085",
         "False",
         "False",
         "True",
         "2025-02-21 07:28:43.556",
         "20",
         "5",
         null,
         "6",
         "11",
         "2",
         "6",
         "226662.0",
         "2246",
         "9",
         "0",
         "0.0",
         "0.0",
         "2014-07-16",
         "10.6",
         "0",
         "2",
         "1",
         "0",
         "2",
         "0",
         "1657",
         "211802",
         "0",
         "0",
         "88.89%",
         "11.11%",
         null,
         "551",
         "Poor",
         "Your current score is 551, which falls within the 'Poor' category. It's great that you're seeking to improve your financial health; recognizing where you stand is the first step toward progress.",
         "['Delinquent Accounts (2): Having accounts that are considered delinquent can significantly harm your credit score, as they indicate missed or late payments.', 'Derogatory Accounts (6): These accounts reflect negative information, such as late payments or defaults, which lowers your creditworthiness.', 'Inquiries (9): Too many recent inquiries into your credit can signal risk to lenders, as this may suggest you are seeking to take on substantial new debt.', 'High Total Balances ($226,662): Carrying a high amount of debt can impact your score negatively, as lenders may view you as over-leveraged.']",
         "['On-Time Payment Percentage (88.89%): Maintaining a high percentage of on-time payments is commendable and positively influences your credit standing.', 'Age of Credit (10.6 years): A longer credit history can be beneficial, showing lenders that you have managed credit responsibly over time.', 'Open Mortgage Account (1): Having a mortgage and managing it responsibly contributes positively to your score, indicating stability.']",
         "['Reduce Delinquent Accounts: Focus on bringing your delinquent accounts current. Consider contacting creditors to discuss payment options or plans.', 'Limit New Inquiries: Be cautious about applying for new credit; try to minimize unnecessary applications to avoid further inquiries.', 'Create a Repayment Plan: Develop a strategy to pay down your total balances gradually. Successfully reducing this amount will significantly improve your credit utilization.', 'Set Up Alerts: By setting up payment reminders, you can enhance your on-time payment percentage, potentially boosting your score even further.']",
         "While your score is currently in the 'Poor' range, the good news is that many of the factors can be improved with some dedicated effort. Every small step you take can lead to a brighter financial future.",
         "You've established a solid foundation with a good payment history and a long credit age. By addressing the negative factors, such as delinquent accounts and high overall debt, and continuing to make timely payments, you can work your way up toward a healthier credit score. Keep pushing forward—you're capable of achieving great improvement!"
        ],
        [
         "4",
         "66ec274f766dc80a49fad7a9",
         "66ec250d3804f60b406b4e4e",
         "2a2e8fdcdc9522ae6d5e95c0fddc648ccd2273f372e8dc2544ff9f6c5eba7d35",
         "2024-09-19 13:29:51.443",
         "False",
         "False",
         "True",
         "2025-02-21 07:28:44.413",
         "8",
         "2",
         null,
         "2",
         "4",
         "1",
         "3",
         "2672.0",
         "0",
         "2",
         "0",
         "0.0",
         "0.0",
         "2013-09-10",
         "11.5",
         "0",
         "2",
         "0",
         "0",
         "0",
         "0",
         "1059",
         "0",
         "0",
         "0",
         "50%",
         "50%",
         null,
         "515",
         "Poor",
         "Poor",
         "['Having 3 derogatory accounts', 'Having 1 delinquent account', '50% on-time payment history', 'Recent credit inquiries (2)']",
         "['Total number of accounts (4)', 'Age of oldest account (over 10 years)']",
         "['Pay down delinquent and collection accounts', 'Establish positive payment history going forward', 'Limit new credit applications for now', 'Consider credit counseling if struggling with debt management']",
         "While your current credit situation has some challenging factors, there are also some positive elements we can build on. With focus and dedication to establishing consistent on-time payments, paying down debts, and limiting new credit applications for now, you can make meaningful improvements over time.",
         "Your VantageScore of 515 places you in the 'Poor' credit range currently. Some factors like multiple derogatory/delinquent accounts and missed payments are weighing heavily on your score. However, you have a reasonably aged credit history and a moderate number of total accounts, which provide a solid foundation to improve from. By prioritizing debt repayment, catching up on missed payments, and being mindful of new credit inquiries, you can absolutely get your credit back on track. Stay positive and stick with it - your credit health will rebound."
        ]
       ],
       "shape": {
        "columns": 44,
        "rows": 5
       }
      },
      "text/html": [
       "<div>\n",
       "<style scoped>\n",
       "    .dataframe tbody tr th:only-of-type {\n",
       "        vertical-align: middle;\n",
       "    }\n",
       "\n",
       "    .dataframe tbody tr th {\n",
       "        vertical-align: top;\n",
       "    }\n",
       "\n",
       "    .dataframe thead th {\n",
       "        text-align: right;\n",
       "    }\n",
       "</style>\n",
       "<table border=\"1\" class=\"dataframe\">\n",
       "  <thead>\n",
       "    <tr style=\"text-align: right;\">\n",
       "      <th></th>\n",
       "      <th>_id</th>\n",
       "      <th>user_id</th>\n",
       "      <th>user_email</th>\n",
       "      <th>created_at</th>\n",
       "      <th>credit_report_frozen</th>\n",
       "      <th>deleted</th>\n",
       "      <th>is_enrolled</th>\n",
       "      <th>updated_at</th>\n",
       "      <th>population_rank</th>\n",
       "      <th>snap_shot__open_accounts</th>\n",
       "      <th>...</th>\n",
       "      <th>snap_shot__late_payment_percentage</th>\n",
       "      <th>thin_file__description</th>\n",
       "      <th>vantage_score3</th>\n",
       "      <th>vantage_score_category</th>\n",
       "      <th>Score Health</th>\n",
       "      <th>What's dragging down your score?</th>\n",
       "      <th>What's boosting your score?</th>\n",
       "      <th>What might help improve the score?</th>\n",
       "      <th>Conclusion</th>\n",
       "      <th>Summary</th>\n",
       "    </tr>\n",
       "  </thead>\n",
       "  <tbody>\n",
       "    <tr>\n",
       "      <th>0</th>\n",
       "      <td>66ec26e2c0b33822acecbca5</td>\n",
       "      <td>66ec25713804f60b406c5dca</td>\n",
       "      <td>a46b2854647b839cd1caaa912457b636a7a9c9373d3fb1...</td>\n",
       "      <td>2024-09-19 13:28:02.711</td>\n",
       "      <td>False</td>\n",
       "      <td>False</td>\n",
       "      <td>True</td>\n",
       "      <td>2025-02-21 07:27:23.232</td>\n",
       "      <td>2</td>\n",
       "      <td>5</td>\n",
       "      <td>...</td>\n",
       "      <td>12.5%</td>\n",
       "      <td>NaN</td>\n",
       "      <td>460</td>\n",
       "      <td>Poor</td>\n",
       "      <td>Your current VantageScore 3.0 is 460, which fa...</td>\n",
       "      <td>[Delinquent Accounts: 1 account is delinquent,...</td>\n",
       "      <td>[On-time Payment Percentage: 87.5% of your pay...</td>\n",
       "      <td>[Address Delinquencies: Focus on catching up w...</td>\n",
       "      <td>Improving your credit score is a journey that ...</td>\n",
       "      <td>While there are factors currently holding your...</td>\n",
       "    </tr>\n",
       "    <tr>\n",
       "      <th>1</th>\n",
       "      <td>66ec271ed58ccf36a23748a4</td>\n",
       "      <td>627300afba62be4a28ca17ba</td>\n",
       "      <td>049a9f1d119ced7afb64fb9e8a7f8ce07189e7ba709996...</td>\n",
       "      <td>2024-09-19 13:29:02.255</td>\n",
       "      <td>False</td>\n",
       "      <td>False</td>\n",
       "      <td>True</td>\n",
       "      <td>2025-02-21 07:27:24.195</td>\n",
       "      <td>5</td>\n",
       "      <td>4</td>\n",
       "      <td>...</td>\n",
       "      <td>25%</td>\n",
       "      <td>NaN</td>\n",
       "      <td>499</td>\n",
       "      <td>Poor</td>\n",
       "      <td>Your current VantageScore 3.0 is 499, which fa...</td>\n",
       "      <td>[Delinquent Accounts: 1 - Having a delinquent ...</td>\n",
       "      <td>[On-time Payment Percentage: 75% - This is a p...</td>\n",
       "      <td>[Reduce Credit Utilization: Focus on paying do...</td>\n",
       "      <td>While your current credit situation poses chal...</td>\n",
       "      <td>Consider focusing on reducing outstanding bala...</td>\n",
       "    </tr>\n",
       "    <tr>\n",
       "      <th>2</th>\n",
       "      <td>66ec272ed58ccf36a23749c7</td>\n",
       "      <td>66ec2608868a9622564d46bb</td>\n",
       "      <td>9bc82cf1f08d07cf0551c8cefbde213eff5ba76fed3f05...</td>\n",
       "      <td>2024-09-19 13:29:18.628</td>\n",
       "      <td>False</td>\n",
       "      <td>False</td>\n",
       "      <td>True</td>\n",
       "      <td>2025-02-21 07:28:42.751</td>\n",
       "      <td>34</td>\n",
       "      <td>18</td>\n",
       "      <td>...</td>\n",
       "      <td>6.06%</td>\n",
       "      <td>NaN</td>\n",
       "      <td>610</td>\n",
       "      <td>Fair</td>\n",
       "      <td>Your current credit score is 610, which falls ...</td>\n",
       "      <td>[Derogatory accounts: 7 - These accounts can s...</td>\n",
       "      <td>[On-time payments: 93.94% - Consistently payin...</td>\n",
       "      <td>[Reduce credit utilization - Aim to pay down y...</td>\n",
       "      <td>With a few dedicated efforts, you can enhance ...</td>\n",
       "      <td>Your score is in the Fair range at 610. Focus ...</td>\n",
       "    </tr>\n",
       "    <tr>\n",
       "      <th>3</th>\n",
       "      <td>66ec273ed58ccf36a2374a13</td>\n",
       "      <td>6429bb6efe264063091b97ed</td>\n",
       "      <td>e8973321e28d8a774df7bd9a965b5a9d16d7e88f2f9fdc...</td>\n",
       "      <td>2024-09-19 13:29:34.085</td>\n",
       "      <td>False</td>\n",
       "      <td>False</td>\n",
       "      <td>True</td>\n",
       "      <td>2025-02-21 07:28:43.556</td>\n",
       "      <td>20</td>\n",
       "      <td>5</td>\n",
       "      <td>...</td>\n",
       "      <td>11.11%</td>\n",
       "      <td>NaN</td>\n",
       "      <td>551</td>\n",
       "      <td>Poor</td>\n",
       "      <td>Your current score is 551, which falls within ...</td>\n",
       "      <td>[Delinquent Accounts (2): Having accounts that...</td>\n",
       "      <td>[On-Time Payment Percentage (88.89%): Maintain...</td>\n",
       "      <td>[Reduce Delinquent Accounts: Focus on bringing...</td>\n",
       "      <td>While your score is currently in the 'Poor' ra...</td>\n",
       "      <td>You've established a solid foundation with a g...</td>\n",
       "    </tr>\n",
       "    <tr>\n",
       "      <th>4</th>\n",
       "      <td>66ec274f766dc80a49fad7a9</td>\n",
       "      <td>66ec250d3804f60b406b4e4e</td>\n",
       "      <td>2a2e8fdcdc9522ae6d5e95c0fddc648ccd2273f372e8dc...</td>\n",
       "      <td>2024-09-19 13:29:51.443</td>\n",
       "      <td>False</td>\n",
       "      <td>False</td>\n",
       "      <td>True</td>\n",
       "      <td>2025-02-21 07:28:44.413</td>\n",
       "      <td>8</td>\n",
       "      <td>2</td>\n",
       "      <td>...</td>\n",
       "      <td>50%</td>\n",
       "      <td>NaN</td>\n",
       "      <td>515</td>\n",
       "      <td>Poor</td>\n",
       "      <td>Poor</td>\n",
       "      <td>[Having 3 derogatory accounts, Having 1 delinq...</td>\n",
       "      <td>[Total number of accounts (4), Age of oldest a...</td>\n",
       "      <td>[Pay down delinquent and collection accounts, ...</td>\n",
       "      <td>While your current credit situation has some c...</td>\n",
       "      <td>Your VantageScore of 515 places you in the 'Po...</td>\n",
       "    </tr>\n",
       "  </tbody>\n",
       "</table>\n",
       "<p>5 rows × 44 columns</p>\n",
       "</div>"
      ],
      "text/plain": [
       "                        _id                   user_id  \\\n",
       "0  66ec26e2c0b33822acecbca5  66ec25713804f60b406c5dca   \n",
       "1  66ec271ed58ccf36a23748a4  627300afba62be4a28ca17ba   \n",
       "2  66ec272ed58ccf36a23749c7  66ec2608868a9622564d46bb   \n",
       "3  66ec273ed58ccf36a2374a13  6429bb6efe264063091b97ed   \n",
       "4  66ec274f766dc80a49fad7a9  66ec250d3804f60b406b4e4e   \n",
       "\n",
       "                                          user_email               created_at  \\\n",
       "0  a46b2854647b839cd1caaa912457b636a7a9c9373d3fb1...  2024-09-19 13:28:02.711   \n",
       "1  049a9f1d119ced7afb64fb9e8a7f8ce07189e7ba709996...  2024-09-19 13:29:02.255   \n",
       "2  9bc82cf1f08d07cf0551c8cefbde213eff5ba76fed3f05...  2024-09-19 13:29:18.628   \n",
       "3  e8973321e28d8a774df7bd9a965b5a9d16d7e88f2f9fdc...  2024-09-19 13:29:34.085   \n",
       "4  2a2e8fdcdc9522ae6d5e95c0fddc648ccd2273f372e8dc...  2024-09-19 13:29:51.443   \n",
       "\n",
       "   credit_report_frozen  deleted  is_enrolled               updated_at  \\\n",
       "0                 False    False         True  2025-02-21 07:27:23.232   \n",
       "1                 False    False         True  2025-02-21 07:27:24.195   \n",
       "2                 False    False         True  2025-02-21 07:28:42.751   \n",
       "3                 False    False         True  2025-02-21 07:28:43.556   \n",
       "4                 False    False         True  2025-02-21 07:28:44.413   \n",
       "\n",
       "   population_rank  snap_shot__open_accounts  ...  \\\n",
       "0                2                         5  ...   \n",
       "1                5                         4  ...   \n",
       "2               34                        18  ...   \n",
       "3               20                         5  ...   \n",
       "4                8                         2  ...   \n",
       "\n",
       "   snap_shot__late_payment_percentage  thin_file__description  vantage_score3  \\\n",
       "0                               12.5%                     NaN             460   \n",
       "1                                 25%                     NaN             499   \n",
       "2                               6.06%                     NaN             610   \n",
       "3                              11.11%                     NaN             551   \n",
       "4                                 50%                     NaN             515   \n",
       "\n",
       "   vantage_score_category                                       Score Health  \\\n",
       "0                    Poor  Your current VantageScore 3.0 is 460, which fa...   \n",
       "1                    Poor  Your current VantageScore 3.0 is 499, which fa...   \n",
       "2                    Fair  Your current credit score is 610, which falls ...   \n",
       "3                    Poor  Your current score is 551, which falls within ...   \n",
       "4                    Poor                                               Poor   \n",
       "\n",
       "                    What's dragging down your score?  \\\n",
       "0  [Delinquent Accounts: 1 account is delinquent,...   \n",
       "1  [Delinquent Accounts: 1 - Having a delinquent ...   \n",
       "2  [Derogatory accounts: 7 - These accounts can s...   \n",
       "3  [Delinquent Accounts (2): Having accounts that...   \n",
       "4  [Having 3 derogatory accounts, Having 1 delinq...   \n",
       "\n",
       "                         What's boosting your score?  \\\n",
       "0  [On-time Payment Percentage: 87.5% of your pay...   \n",
       "1  [On-time Payment Percentage: 75% - This is a p...   \n",
       "2  [On-time payments: 93.94% - Consistently payin...   \n",
       "3  [On-Time Payment Percentage (88.89%): Maintain...   \n",
       "4  [Total number of accounts (4), Age of oldest a...   \n",
       "\n",
       "                  What might help improve the score?  \\\n",
       "0  [Address Delinquencies: Focus on catching up w...   \n",
       "1  [Reduce Credit Utilization: Focus on paying do...   \n",
       "2  [Reduce credit utilization - Aim to pay down y...   \n",
       "3  [Reduce Delinquent Accounts: Focus on bringing...   \n",
       "4  [Pay down delinquent and collection accounts, ...   \n",
       "\n",
       "                                          Conclusion  \\\n",
       "0  Improving your credit score is a journey that ...   \n",
       "1  While your current credit situation poses chal...   \n",
       "2  With a few dedicated efforts, you can enhance ...   \n",
       "3  While your score is currently in the 'Poor' ra...   \n",
       "4  While your current credit situation has some c...   \n",
       "\n",
       "                                             Summary  \n",
       "0  While there are factors currently holding your...  \n",
       "1  Consider focusing on reducing outstanding bala...  \n",
       "2  Your score is in the Fair range at 610. Focus ...  \n",
       "3  You've established a solid foundation with a g...  \n",
       "4  Your VantageScore of 515 places you in the 'Po...  \n",
       "\n",
       "[5 rows x 44 columns]"
      ]
     },
     "execution_count": 11,
     "metadata": {},
     "output_type": "execute_result"
    }
   ],
   "source": [
    "# Convert responses into a list of dictionaries\n",
    "response_dicts = []\n",
    "for i in range(0, len(responses)):\n",
    "    response_i = json.loads(responses[i].choices[0].message.content)\n",
    "    response_i['user_id'] = df_5_json[i]['user_id']\n",
    "    response_dicts.append(response_i)\n",
    "\n",
    "# Convert the list of dictionaries into a pandas DataFrame\n",
    "responses_df = pd.DataFrame(response_dicts)\n",
    "# Perform a left join with df_1000 using 'user_id'\n",
    "final_df = df_5.merge(responses_df, on='user_id', how='left')\n",
    "final_df"
   ]
  },
  {
   "cell_type": "markdown",
   "metadata": {},
   "source": [
    "## define evaluation metrics"
   ]
  },
  {
   "cell_type": "code",
   "execution_count": 42,
   "metadata": {},
   "outputs": [],
   "source": [
    "# evaluation\n",
    "# check if the right vantage_score3 is mentioned in `Score Health` column\n",
    "final_df['evaluate_score'] = final_df['Score Health'].apply(lambda x: any(str(score) in x for score in final_df['vantage_score3'].astype(str)))\n",
    "final_df['evaluate_delinquent'] = final_df.apply(lambda row: not(row['snap_shot__delinquent_accounts'] > 0 and 'delinquent' not in ' '.join(row[\"What's dragging down your score?\"]).lower()), axis=1)\n",
    "final_df['evaluate_derogatory'] = final_df.apply(lambda row: not(row['snap_shot__derogatory_accounts'] > 0 and 'derogatory' not in ' '.join(row[\"What's dragging down your score?\"]).lower()), axis=1)\n",
    "# convert late_payment_percentage to float and check if the right late_payment_percentage is mentioned in `What's dragging down your score?` column when late_payment_percentage > 0\n",
    "final_df['late_payment_percentage_real'] = final_df['snap_shot__late_payment_percentage'].str.rstrip('%').astype('float') / 100.0\n",
    "final_df['evaluate_late_payment'] = final_df.apply(lambda row: not(row['late_payment_percentage_real'] > 0 and 'late payment' not in ' '.join(row[\"What's dragging down your score?\"]).lower()), axis=1)"
   ]
  },
  {
   "cell_type": "code",
   "execution_count": 53,
   "metadata": {},
   "outputs": [
    {
     "data": {
      "application/vnd.microsoft.datawrangler.viewer.v0+json": {
       "columns": [
        {
         "name": "index",
         "rawType": "int64",
         "type": "integer"
        },
        {
         "name": "Metric",
         "rawType": "object",
         "type": "string"
        },
        {
         "name": "Accuracy",
         "rawType": "float64",
         "type": "float"
        }
       ],
       "conversionMethod": "pd.DataFrame",
       "ref": "78acc33b-388c-4a35-a158-c9779f51b39d",
       "rows": [
        [
         "0",
         "Vantage Score Accuracy",
         "0.8"
        ],
        [
         "1",
         "Delinquent Accounts Accuracy",
         "1.0"
        ],
        [
         "2",
         "Derogatory Accounts Accuracy",
         "1.0"
        ],
        [
         "3",
         "Late Payment Accuracy",
         "0.6"
        ]
       ],
       "shape": {
        "columns": 2,
        "rows": 4
       }
      },
      "text/html": [
       "<div>\n",
       "<style scoped>\n",
       "    .dataframe tbody tr th:only-of-type {\n",
       "        vertical-align: middle;\n",
       "    }\n",
       "\n",
       "    .dataframe tbody tr th {\n",
       "        vertical-align: top;\n",
       "    }\n",
       "\n",
       "    .dataframe thead th {\n",
       "        text-align: right;\n",
       "    }\n",
       "</style>\n",
       "<table border=\"1\" class=\"dataframe\">\n",
       "  <thead>\n",
       "    <tr style=\"text-align: right;\">\n",
       "      <th></th>\n",
       "      <th>Metric</th>\n",
       "      <th>Accuracy</th>\n",
       "    </tr>\n",
       "  </thead>\n",
       "  <tbody>\n",
       "    <tr>\n",
       "      <th>0</th>\n",
       "      <td>Vantage Score Accuracy</td>\n",
       "      <td>0.8</td>\n",
       "    </tr>\n",
       "    <tr>\n",
       "      <th>1</th>\n",
       "      <td>Delinquent Accounts Accuracy</td>\n",
       "      <td>1.0</td>\n",
       "    </tr>\n",
       "    <tr>\n",
       "      <th>2</th>\n",
       "      <td>Derogatory Accounts Accuracy</td>\n",
       "      <td>1.0</td>\n",
       "    </tr>\n",
       "    <tr>\n",
       "      <th>3</th>\n",
       "      <td>Late Payment Accuracy</td>\n",
       "      <td>0.6</td>\n",
       "    </tr>\n",
       "  </tbody>\n",
       "</table>\n",
       "</div>"
      ],
      "text/plain": [
       "                         Metric  Accuracy\n",
       "0        Vantage Score Accuracy       0.8\n",
       "1  Delinquent Accounts Accuracy       1.0\n",
       "2  Derogatory Accounts Accuracy       1.0\n",
       "3         Late Payment Accuracy       0.6"
      ]
     },
     "execution_count": 53,
     "metadata": {},
     "output_type": "execute_result"
    }
   ],
   "source": [
    "# Combine all metrics into one table\n",
    "metrics_df = final_df[['user_id', 'vantage_score3', 'evaluate_score', 'evaluate_delinquent', 'evaluate_derogatory', 'evaluate_late_payment']]\n",
    "\n",
    "# Calculate the mean accuracy for each metric\n",
    "accuracy_metrics = {\n",
    "    'Metric': ['Vantage Score Accuracy', 'Delinquent Accounts Accuracy', 'Derogatory Accounts Accuracy', 'Late Payment Accuracy'],\n",
    "    'Accuracy': [\n",
    "        final_df['evaluate_score'].mean(),\n",
    "        final_df['evaluate_delinquent'].mean(),\n",
    "        final_df['evaluate_derogatory'].mean(),\n",
    "        final_df['evaluate_late_payment'].mean()\n",
    "    ]\n",
    "}\n",
    "\n",
    "accuracy_df = pd.DataFrame(accuracy_metrics)\n",
    "accuracy_df"
   ]
  },
  {
   "cell_type": "code",
   "execution_count": 54,
   "metadata": {},
   "outputs": [
    {
     "data": {
      "text/plain": [
       "[['Delinquent Accounts: 1 account is delinquent, meaning payments have been missed, which can significantly impact your score.',\n",
       "  'Derogatory Accounts: 9 accounts have negative marks, suggesting serious issues that may deter lenders from extending credit.',\n",
       "  'Number of Inquiries: You have 9 hard inquiries on your report, which can indicate a risky profile to lenders and lead to score penalties.',\n",
       "  'Open Collection Accounts: 5 accounts are in collections, showing unpaid debts that negatively affect your credit standing.'],\n",
       " ['Having 3 derogatory accounts',\n",
       "  'Having 1 delinquent account',\n",
       "  '50% on-time payment history',\n",
       "  'Recent credit inquiries (2)']]"
      ]
     },
     "execution_count": 54,
     "metadata": {},
     "output_type": "execute_result"
    }
   ],
   "source": [
    "# checking inaccurate output\n",
    "final_df[~final_df['evaluate_late_payment']]['What\\'s dragging down your score?'].tolist()"
   ]
  },
  {
   "cell_type": "markdown",
   "metadata": {},
   "source": [
    "## calculate metrics"
   ]
  },
  {
   "cell_type": "code",
   "execution_count": 155,
   "metadata": {},
   "outputs": [],
   "source": [
    "def calculate_accuracy_metrics(responses, df_input):\n",
    "    # Convert responses into a list of dictionaries\n",
    "    response_dicts = []\n",
    "    for i in range(len(responses)):\n",
    "        response_i = json.loads(responses[i].choices[0].message.content)\n",
    "        response_i['user_id'] = df_input[i]['user_id']\n",
    "        response_dicts.append(response_i)\n",
    "\n",
    "    # Initialize lists to store evaluation results\n",
    "    evaluate_score = []\n",
    "    evaluate_delinquent = []\n",
    "    evaluate_derogatory = []\n",
    "    evaluate_late_payment = []\n",
    "\n",
    "    # Perform evaluation for each response\n",
    "    for i, response in tqdm(enumerate(response_dicts)):\n",
    "        user_data = df_input[i]\n",
    "        score_health = response['Score Health']  # assume it's a string\n",
    "        dragging_down_list = response[\"What's dragging down your score?\"]\n",
    "        # Check if 'dragging_down_list' is a list of dictionaries\n",
    "        if isinstance(dragging_down_list, list) and all(isinstance(item, dict) for item in dragging_down_list):\n",
    "            # Convert list of dictionaries to a single string with key-value pairs\n",
    "            dragging_down = ' '.join([f\"{key}: {value}\" for item in dragging_down_list for key, value in item.items()]).lower()\n",
    "        else:\n",
    "            # Convert list of strings to a single string\n",
    "            dragging_down = ' '.join(dragging_down_list).lower()\n",
    "        # Evaluate if the correct VantageScore is mentioned in 'Score Health'\n",
    "        evaluate_score.append(str(user_data['vantage_score3']) in score_health)\n",
    "        \n",
    "        # Evaluate if delinquent accounts are correctly mentioned\n",
    "        evaluate_delinquent.append(\n",
    "            not (user_data['snap_shot__delinquent_accounts'] > 0 and 'delinquent' not in dragging_down)\n",
    "        )\n",
    "        \n",
    "        # Evaluate if derogatory accounts are correctly mentioned\n",
    "        evaluate_derogatory.append(\n",
    "            not (user_data['snap_shot__derogatory_accounts'] > 0 and 'derogatory' not in dragging_down)\n",
    "        )\n",
    "        \n",
    "        # Handle empty percentage values and convert late payment percentage to float\n",
    "        late_payment_percentage_str = user_data['snap_shot__late_payment_percentage']\n",
    "        if late_payment_percentage_str in [None, \"%\"]:\n",
    "            late_payment_percentage_real = 0.0\n",
    "        else:\n",
    "            late_payment_percentage_real = float(late_payment_percentage_str.rstrip('%')) / 100.0\n",
    "        # Convert late payment percentage to float and evaluate if it's correctly mentioned\n",
    "        evaluate_late_payment.append(\n",
    "            not (late_payment_percentage_real > 0 and 'late payment' not in dragging_down)\n",
    "        )\n",
    "\n",
    "    # Calculate the mean accuracy for each metric\n",
    "    accuracy_metrics = {\n",
    "        'Metric': [\n",
    "            'Vantage Score Accuracy',\n",
    "            'Delinquent Accounts Accuracy',\n",
    "            'Derogatory Accounts Accuracy',\n",
    "            'Late Payment Accuracy'\n",
    "        ],\n",
    "        'Accuracy': [\n",
    "            sum(evaluate_score) / len(evaluate_score),\n",
    "            sum(evaluate_delinquent) / len(evaluate_delinquent),\n",
    "            sum(evaluate_derogatory) / len(evaluate_derogatory),\n",
    "            sum(evaluate_late_payment) / len(evaluate_late_payment)\n",
    "        ]\n",
    "    }\n",
    "\n",
    "    # Return the accuracy metrics as a JSON string\n",
    "    return json.dumps(accuracy_metrics, indent=4)\n"
   ]
  },
  {
   "cell_type": "code",
   "execution_count": 70,
   "metadata": {},
   "outputs": [
    {
     "data": {
      "application/vnd.microsoft.datawrangler.viewer.v0+json": {
       "columns": [
        {
         "name": "index",
         "rawType": "int64",
         "type": "integer"
        },
        {
         "name": "Metric",
         "rawType": "object",
         "type": "string"
        },
        {
         "name": "Accuracy",
         "rawType": "float64",
         "type": "float"
        }
       ],
       "conversionMethod": "pd.DataFrame",
       "ref": "5267bf0e-56ca-4469-9e6d-3fd9a12686c9",
       "rows": [
        [
         "0",
         "Vantage Score Accuracy",
         "0.8"
        ],
        [
         "1",
         "Delinquent Accounts Accuracy",
         "1.0"
        ],
        [
         "2",
         "Derogatory Accounts Accuracy",
         "1.0"
        ],
        [
         "3",
         "Late Payment Accuracy",
         "0.6"
        ]
       ],
       "shape": {
        "columns": 2,
        "rows": 4
       }
      },
      "text/html": [
       "<div>\n",
       "<style scoped>\n",
       "    .dataframe tbody tr th:only-of-type {\n",
       "        vertical-align: middle;\n",
       "    }\n",
       "\n",
       "    .dataframe tbody tr th {\n",
       "        vertical-align: top;\n",
       "    }\n",
       "\n",
       "    .dataframe thead th {\n",
       "        text-align: right;\n",
       "    }\n",
       "</style>\n",
       "<table border=\"1\" class=\"dataframe\">\n",
       "  <thead>\n",
       "    <tr style=\"text-align: right;\">\n",
       "      <th></th>\n",
       "      <th>Metric</th>\n",
       "      <th>Accuracy</th>\n",
       "    </tr>\n",
       "  </thead>\n",
       "  <tbody>\n",
       "    <tr>\n",
       "      <th>0</th>\n",
       "      <td>Vantage Score Accuracy</td>\n",
       "      <td>0.8</td>\n",
       "    </tr>\n",
       "    <tr>\n",
       "      <th>1</th>\n",
       "      <td>Delinquent Accounts Accuracy</td>\n",
       "      <td>1.0</td>\n",
       "    </tr>\n",
       "    <tr>\n",
       "      <th>2</th>\n",
       "      <td>Derogatory Accounts Accuracy</td>\n",
       "      <td>1.0</td>\n",
       "    </tr>\n",
       "    <tr>\n",
       "      <th>3</th>\n",
       "      <td>Late Payment Accuracy</td>\n",
       "      <td>0.6</td>\n",
       "    </tr>\n",
       "  </tbody>\n",
       "</table>\n",
       "</div>"
      ],
      "text/plain": [
       "                         Metric  Accuracy\n",
       "0        Vantage Score Accuracy       0.8\n",
       "1  Delinquent Accounts Accuracy       1.0\n",
       "2  Derogatory Accounts Accuracy       1.0\n",
       "3         Late Payment Accuracy       0.6"
      ]
     },
     "execution_count": 70,
     "metadata": {},
     "output_type": "execute_result"
    }
   ],
   "source": [
    "accuracy_metrics_json = calculate_accuracy_metrics(responses, df_5_json)\n",
    "accuracy_metrics_dict = json.loads(accuracy_metrics_json)\n",
    "pd.DataFrame(accuracy_metrics_dict)"
   ]
  },
  {
   "cell_type": "markdown",
   "metadata": {},
   "source": [
    "# 1000 users"
   ]
  },
  {
   "cell_type": "code",
   "execution_count": 97,
   "metadata": {},
   "outputs": [
    {
     "name": "stderr",
     "output_type": "stream",
     "text": [
      "100%|██████████| 50/50 [00:00<00:00, 48210.39it/s]\n",
      "100%|██████████| 50/50 [00:00<00:00, 48455.45it/s]\n",
      "100%|██████████| 50/50 [00:00<00:00, 56741.13it/s]\n",
      "100%|██████████| 50/50 [00:00<00:00, 49955.98it/s]\n",
      "100%|██████████| 50/50 [00:00<00:00, 48221.48it/s]\n",
      "100%|██████████| 50/50 [00:00<00:00, 59578.18it/s]\n",
      "100%|██████████| 50/50 [00:00<00:00, 50914.11it/s]\n",
      "100%|██████████| 50/50 [00:00<00:00, 57550.82it/s]\n"
     ]
    }
   ],
   "source": [
    "df_1000_json = json.loads(df_1000.to_json(orient='records'))\n",
    "\n",
    "# Process df_1000_json in chunks of 50\n",
    "chunk_size = 50\n",
    "responses = []\n",
    "for i in range(600, len(df_1000_json), chunk_size):\n",
    "    chunk = df_1000_json[i:i + chunk_size]\n",
    "    try:\n",
    "        chunk_responses = await get_credit_improvement(chunk)\n",
    "        responses.extend(chunk_responses)\n",
    "    except asyncio.TimeoutError:\n",
    "        print(f\"Timeout error occurred for chunk starting at index {i}. Retrying...\")\n",
    "        chunk_responses = await get_credit_improvement(chunk)\n",
    "        responses.extend(chunk_responses)\n"
   ]
  },
  {
   "cell_type": "code",
   "execution_count": 99,
   "metadata": {},
   "outputs": [],
   "source": [
    "# Combine response_bak and responses\n",
    "combined_responses = responses_bak + responses"
   ]
  },
  {
   "cell_type": "code",
   "execution_count": 101,
   "metadata": {},
   "outputs": [
    {
     "data": {
      "text/plain": [
       "1000"
      ]
     },
     "execution_count": 101,
     "metadata": {},
     "output_type": "execute_result"
    }
   ],
   "source": [
    "len(combined_responses)"
   ]
  },
  {
   "cell_type": "code",
   "execution_count": 117,
   "metadata": {},
   "outputs": [
    {
     "data": {
      "text/plain": [
       "snap_shot__late_payment_percentage\n",
       "%         411\n",
       "0          50\n",
       "25%        36\n",
       "14.29%     36\n",
       "20%        32\n",
       "         ... \n",
       "14.81%      1\n",
       "20.93%      1\n",
       "57.14%      1\n",
       "4%          1\n",
       "8.11%       1\n",
       "Name: count, Length: 113, dtype: int64"
      ]
     },
     "execution_count": 117,
     "metadata": {},
     "output_type": "execute_result"
    }
   ],
   "source": [
    "df_1000['snap_shot__late_payment_percentage'].value_counts()"
   ]
  },
  {
   "cell_type": "code",
   "execution_count": null,
   "metadata": {},
   "outputs": [],
   "source": [
    "# Convert the combined_responses to a list of dictionaries\n",
    "combined_responses_dicts = [response.choices[0].message.content for response in combined_responses]\n",
    "\n",
    "# Write the list of dictionaries to a JSON file\n",
    "with open('combined_responses.json', 'w') as f:\n",
    "    json.dump(combined_responses_dicts, f, indent=4)"
   ]
  },
  {
   "cell_type": "markdown",
   "metadata": {},
   "source": [
    "## run metrics calculation for 1000 users"
   ]
  },
  {
   "cell_type": "code",
   "execution_count": 157,
   "metadata": {},
   "outputs": [
    {
     "name": "stderr",
     "output_type": "stream",
     "text": [
      "1000it [00:00, 164695.65it/s]\n"
     ]
    },
    {
     "data": {
      "application/vnd.microsoft.datawrangler.viewer.v0+json": {
       "columns": [
        {
         "name": "index",
         "rawType": "int64",
         "type": "integer"
        },
        {
         "name": "Metric",
         "rawType": "object",
         "type": "string"
        },
        {
         "name": "Accuracy",
         "rawType": "float64",
         "type": "float"
        }
       ],
       "conversionMethod": "pd.DataFrame",
       "ref": "9eb788ad-dcc8-4ac8-9bde-de2e9ad37cb8",
       "rows": [
        [
         "0",
         "Vantage Score Accuracy",
         "0.821"
        ],
        [
         "1",
         "Delinquent Accounts Accuracy",
         "0.995"
        ],
        [
         "2",
         "Derogatory Accounts Accuracy",
         "0.979"
        ],
        [
         "3",
         "Late Payment Accuracy",
         "0.72"
        ]
       ],
       "shape": {
        "columns": 2,
        "rows": 4
       }
      },
      "text/html": [
       "<div>\n",
       "<style scoped>\n",
       "    .dataframe tbody tr th:only-of-type {\n",
       "        vertical-align: middle;\n",
       "    }\n",
       "\n",
       "    .dataframe tbody tr th {\n",
       "        vertical-align: top;\n",
       "    }\n",
       "\n",
       "    .dataframe thead th {\n",
       "        text-align: right;\n",
       "    }\n",
       "</style>\n",
       "<table border=\"1\" class=\"dataframe\">\n",
       "  <thead>\n",
       "    <tr style=\"text-align: right;\">\n",
       "      <th></th>\n",
       "      <th>Metric</th>\n",
       "      <th>Accuracy</th>\n",
       "    </tr>\n",
       "  </thead>\n",
       "  <tbody>\n",
       "    <tr>\n",
       "      <th>0</th>\n",
       "      <td>Vantage Score Accuracy</td>\n",
       "      <td>0.821</td>\n",
       "    </tr>\n",
       "    <tr>\n",
       "      <th>1</th>\n",
       "      <td>Delinquent Accounts Accuracy</td>\n",
       "      <td>0.995</td>\n",
       "    </tr>\n",
       "    <tr>\n",
       "      <th>2</th>\n",
       "      <td>Derogatory Accounts Accuracy</td>\n",
       "      <td>0.979</td>\n",
       "    </tr>\n",
       "    <tr>\n",
       "      <th>3</th>\n",
       "      <td>Late Payment Accuracy</td>\n",
       "      <td>0.720</td>\n",
       "    </tr>\n",
       "  </tbody>\n",
       "</table>\n",
       "</div>"
      ],
      "text/plain": [
       "                         Metric  Accuracy\n",
       "0        Vantage Score Accuracy     0.821\n",
       "1  Delinquent Accounts Accuracy     0.995\n",
       "2  Derogatory Accounts Accuracy     0.979\n",
       "3         Late Payment Accuracy     0.720"
      ]
     },
     "execution_count": 157,
     "metadata": {},
     "output_type": "execute_result"
    }
   ],
   "source": [
    "accuracy_metrics_json = calculate_accuracy_metrics(combined_responses, df_1000_json)\n",
    "accuracy_metrics_dict = json.loads(accuracy_metrics_json)\n",
    "pd.DataFrame(accuracy_metrics_dict)"
   ]
  },
  {
   "cell_type": "code",
   "execution_count": 139,
   "metadata": {},
   "outputs": [
    {
     "data": {
      "text/plain": [
       "{'Score Health': \"Your current VantageScore 3.0 is 552, which falls into the 'Poor' category. This indicates there are significant areas for improvement, but with focused effort, you can increase your score.\",\n",
       " \"What's dragging down your score?\": [\"Derogatory Accounts: 2 - Having derogatory accounts indicates past due payments or collections, which considerably lowers your score. It's important to address these to improve your credit health.\",\n",
       "  'High Inquiries: 8 - Too many recent inquiries can signal risk to creditors. Consider limiting new credit applications in the near term to help your score recover.',\n",
       "  \"Available Credit: $0.00 - Without available credit, it can appear you have limited options for credit use, which isn't beneficial for your score. Building or maintaining available credit is key.\"],\n",
       " \"What's boosting your score?\": [],\n",
       " 'What might help improve the score?': ['Address Derogatory Accounts - Contact creditors to negotiate payment plans or settlement options. Clearing these can have a positive impact on your report.',\n",
       "  'Limit New Applications - Try to avoid applying for new credit for awhile. Fewer inquiries can help your score recover more quickly.',\n",
       "  'Open a New Account - If possible, consider applying for a secured credit card or an account with a limit that you can manage. Use it responsibly to show a positive payment history.'],\n",
       " 'Conclusion': \"You've faced some challenges, but there is a clear path forward. By focusing on improving your derogatory accounts and managing your credit usage wisely, you can lift your score over time.\",\n",
       " 'Summary': 'While your current score shows some obstacles, understanding these factors gives you significant opportunities for improvement. Proactively managing your accounts and being mindful of new credit applications will gradually enhance your overall credit health.'}"
      ]
     },
     "execution_count": 139,
     "metadata": {},
     "output_type": "execute_result"
    }
   ],
   "source": [
    "sample = json.loads(combined_responses[865].choices[0].message.content)\n",
    "# dragging_down = ' '.join(sample[\"What's dragging down your score?\"]).lower()\n",
    "sample"
   ]
  }
 ],
 "metadata": {
  "kernelspec": {
   "display_name": "venv",
   "language": "python",
   "name": "python3"
  },
  "language_info": {
   "codemirror_mode": {
    "name": "ipython",
    "version": 3
   },
   "file_extension": ".py",
   "mimetype": "text/x-python",
   "name": "python",
   "nbconvert_exporter": "python",
   "pygments_lexer": "ipython3",
   "version": "3.9.18"
  }
 },
 "nbformat": 4,
 "nbformat_minor": 2
}
