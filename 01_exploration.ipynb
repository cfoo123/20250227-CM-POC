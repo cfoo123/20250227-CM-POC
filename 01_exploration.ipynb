{
 "cells": [
  {
   "cell_type": "markdown",
   "metadata": {},
   "source": [
    "# Import Libraries"
   ]
  },
  {
   "cell_type": "code",
   "execution_count": 1,
   "metadata": {},
   "outputs": [],
   "source": [
    "from openai import OpenAI\n",
    "import pandas as pd\n",
    "\n",
    "from llm import get_top5\n"
   ]
  },
  {
   "cell_type": "code",
   "execution_count": 2,
   "metadata": {},
   "outputs": [
    {
     "name": "stdout",
     "output_type": "stream",
     "text": [
      "{'data': [{'id': 'gpt-4o-mini', 'object': 'model', 'created': 1677610602, 'owned_by': 'openai'}, {'id': 'gpt-3.5-turbo-0125', 'object': 'model', 'created': 1677610602, 'owned_by': 'openai'}], 'object': 'list'}\n"
     ]
    }
   ],
   "source": [
    "import requests\n",
    "\n",
    "# Define the API key\n",
    "api_key = \"sk-LqAxkOCFFIYgBRL329jALw\"\n",
    "\n",
    "# Set the headers with the API key\n",
    "headers = {\n",
    "\t\"Authorization\": f\"Bearer {api_key}\"\n",
    "}\n",
    "\n",
    "# Check model list\n",
    "response = requests.get(\"https://staging-litellm.moneylion.io/models\", headers=headers)\n",
    "print(response.json())"
   ]
  },
  {
   "cell_type": "markdown",
   "metadata": {},
   "source": [
    "# Read Data"
   ]
  },
  {
   "cell_type": "code",
   "execution_count": 3,
   "metadata": {},
   "outputs": [],
   "source": [
    "df_1000 = pd.read_csv('data/1000_users_latest_credit.csv')\n",
    "df_1000.columns = df_1000.columns.str.lower()"
   ]
  },
  {
   "cell_type": "code",
   "execution_count": 4,
   "metadata": {},
   "outputs": [],
   "source": [
    "df_1000['vantage_score_category'] = pd.cut(df_1000['vantage_score3'],\n",
    "                                           bins=[-float('inf'), 599, 660, 715, 747, 850, float('inf')],\n",
    "                                           labels=['Poor', 'Fair', 'Good', 'Very Good', 'Exceptional', 'Out of Range'])"
   ]
  },
  {
   "cell_type": "code",
   "execution_count": 5,
   "metadata": {},
   "outputs": [
    {
     "name": "stderr",
     "output_type": "stream",
     "text": [
      "/var/folders/wf/dnb0jm9x1vnc27qxnk9yr6yh0000gp/T/ipykernel_28094/553982992.py:1: FutureWarning: The default of observed=False is deprecated and will be changed to True in a future version of pandas. Pass observed=False to retain current behavior or observed=True to adopt the future default and silence this warning.\n",
      "  df_1000.groupby('vantage_score_category').size()\n"
     ]
    },
    {
     "data": {
      "text/plain": [
       "vantage_score_category\n",
       "Poor            728\n",
       "Fair            191\n",
       "Good             66\n",
       "Very Good         9\n",
       "Exceptional       6\n",
       "Out of Range      0\n",
       "dtype: int64"
      ]
     },
     "execution_count": 5,
     "metadata": {},
     "output_type": "execute_result"
    }
   ],
   "source": [
    "df_1000.groupby('vantage_score_category').size()"
   ]
  },
  {
   "cell_type": "code",
   "execution_count": 6,
   "metadata": {},
   "outputs": [
    {
     "data": {
      "text/plain": [
       "460"
      ]
     },
     "execution_count": 6,
     "metadata": {},
     "output_type": "execute_result"
    }
   ],
   "source": [
    "import json\n",
    "\n",
    "first_row_json = df_1000.iloc[0].to_json()\n",
    "first_row_dict = json.loads(first_row_json)\n",
    "first_row_dict['vantage_score3']"
   ]
  },
  {
   "cell_type": "markdown",
   "metadata": {},
   "source": [
    "# sample groundtruth set"
   ]
  },
  {
   "cell_type": "code",
   "execution_count": 83,
   "metadata": {},
   "outputs": [
    {
     "name": "stderr",
     "output_type": "stream",
     "text": [
      "/var/folders/wf/dnb0jm9x1vnc27qxnk9yr6yh0000gp/T/ipykernel_16448/596256927.py:9: FutureWarning: The default of observed=False is deprecated and will be changed to True in a future version of pandas. Pass observed=False to retain current behavior or observed=True to adopt the future default and silence this warning.\n",
      "  sampled_df.groupby('vantage_score_category').size()\n"
     ]
    },
    {
     "data": {
      "text/plain": [
       "vantage_score_category\n",
       "Poor            10\n",
       "Fair             3\n",
       "Good             1\n",
       "Very Good        1\n",
       "Exceptional      1\n",
       "Out of Range     0\n",
       "dtype: int64"
      ]
     },
     "execution_count": 83,
     "metadata": {},
     "output_type": "execute_result"
    }
   ],
   "source": [
    "# Sample rows from each category\n",
    "sampled_df = pd.concat([\n",
    "    df_1000[df_1000['vantage_score_category'] == 'Poor'].sample(10, random_state=1),\n",
    "    df_1000[df_1000['vantage_score_category'] == 'Fair'].sample(3, random_state=1),\n",
    "    df_1000[df_1000['vantage_score_category'] == 'Good'].sample(1, random_state=1),\n",
    "    df_1000[df_1000['vantage_score_category'] == 'Very Good'].sample(1, random_state=1),\n",
    "    df_1000[df_1000['vantage_score_category'] == 'Exceptional'].sample(1, random_state=1)\n",
    "])\n",
    "sampled_df.groupby('vantage_score_category').size()"
   ]
  },
  {
   "cell_type": "code",
   "execution_count": 7,
   "metadata": {},
   "outputs": [],
   "source": [
    "sampled_df = df_1000[df_1000['user_email']=='399777dcde15a99f492a3f21b4b26e5e3127d2512f71e0cb0e6f568d7eb43e06']"
   ]
  },
  {
   "cell_type": "code",
   "execution_count": 8,
   "metadata": {},
   "outputs": [],
   "source": [
    "first_row_dict = json.loads(sampled_df[sampled_df['vantage_score_category'] == 'Poor'].iloc[0].to_json())"
   ]
  },
  {
   "cell_type": "code",
   "execution_count": 9,
   "metadata": {},
   "outputs": [
    {
     "data": {
      "text/plain": [
       "{'_id': '66ec502cc0b33822acefb102',\n",
       " 'user_id': '6515c12f1ddcd17a423751ee',\n",
       " 'user_email': '399777dcde15a99f492a3f21b4b26e5e3127d2512f71e0cb0e6f568d7eb43e06',\n",
       " 'created_at': '2024-09-19 16:24:12.712',\n",
       " 'credit_report_frozen': False,\n",
       " 'deleted': False,\n",
       " 'is_enrolled': True,\n",
       " 'updated_at': '2025-02-21 07:30:59.182',\n",
       " 'population_rank': 10,\n",
       " 'snap_shot__open_accounts': 6,\n",
       " 'snap_shot__total_closed_accounts': None,\n",
       " 'snap_shot__closed_accounts': 6,\n",
       " 'snap_shot__total_accounts': 12,\n",
       " 'snap_shot__delinquent_accounts': 2,\n",
       " 'snap_shot__derogatory_accounts': 4,\n",
       " 'snap_shot__total_balances': 12802.0,\n",
       " 'snap_shot__total_monthly_payments': 291,\n",
       " 'snap_shot__number_of_inquiries': 5,\n",
       " 'snap_shot__total_public_records': 0,\n",
       " 'snap_shot__available_credit': 0.0,\n",
       " 'snap_shot__utilization': 0.0,\n",
       " 'snap_shot__date_of_oldest_trade': '2020-04-08',\n",
       " 'snap_shot__age_of_credit': 4.9,\n",
       " 'snap_shot__total_open_installment_accounts': 1,\n",
       " 'snap_shot__total_open_collection_accounts': 3,\n",
       " 'snap_shot__total_open_mortgage_accounts': 0,\n",
       " 'snap_shot__total_open_revolving_accounts': 0,\n",
       " 'snap_shot__total_open_other_accounts': 2,\n",
       " 'snap_shot__balance_open_installment_accounts': 8080,\n",
       " 'snap_shot__balance_open_collection_accounts': 4491,\n",
       " 'snap_shot__balance_open_mortgage_accounts': 0,\n",
       " 'snap_shot__balance_open_revolving_accounts': 0,\n",
       " 'snap_shot__balance_open_other_accounts': 0,\n",
       " 'snap_shot__on_time_payment_percentage': '77.78%',\n",
       " 'snap_shot__late_payment_percentage': '22.22%',\n",
       " 'thin_file__description': None,\n",
       " 'vantage_score3': 517,\n",
       " 'vantage_score_category': 'Poor'}"
      ]
     },
     "execution_count": 9,
     "metadata": {},
     "output_type": "execute_result"
    }
   ],
   "source": [
    "first_row_dict"
   ]
  },
  {
   "cell_type": "markdown",
   "metadata": {},
   "source": [
    "# Prompt Building"
   ]
  },
  {
   "cell_type": "code",
   "execution_count": 74,
   "metadata": {},
   "outputs": [],
   "source": [
    "credit_score = first_row_dict['vantage_score3']\n",
    "ontime_payment_pct = first_row_dict['snap_shot__on_time_payment_percentage']\n",
    "late_payment_pct = first_row_dict['snap_shot__late_payment_percentage']\n",
    "delinquent_accounts = first_row_dict['snap_shot__delinquent_accounts']\n",
    "derogatory_accounts = first_row_dict['snap_shot__derogatory_accounts']\n",
    "utilization = first_row_dict['snap_shot__utilization']\n",
    "number_of_inquiries = first_row_dict['snap_shot__number_of_inquiries']\n",
    "available_credit = first_row_dict['snap_shot__available_credit']\n",
    "date_of_oldest_trade = first_row_dict['snap_shot__date_of_oldest_trade']\n",
    "age_of_credit = first_row_dict['snap_shot__age_of_credit']\n",
    "total_installment = first_row_dict['snap_shot__total_open_installment_accounts']\n",
    "total_revolving = first_row_dict['snap_shot__total_open_revolving_accounts']\n",
    "total_balances = first_row_dict['snap_shot__total_balances']\n",
    "installment_balances = first_row_dict['snap_shot__balance_open_installment_accounts']\n",
    "revolving_balances = first_row_dict['snap_shot__balance_open_revolving_accounts']\n",
    "mortgage_balances = first_row_dict['snap_shot__balance_open_mortgage_accounts']\n",
    "other_balances = first_row_dict['snap_shot__balance_open_other_accounts']\n",
    "collection_balances = first_row_dict['snap_shot__balance_open_collection_accounts']"
   ]
  },
  {
   "cell_type": "markdown",
   "metadata": {},
   "source": [
    "## Attempt 1: `gpt-3.5-turbo` zero shot, CoT"
   ]
  },
  {
   "cell_type": "code",
   "execution_count": 72,
   "metadata": {},
   "outputs": [],
   "source": [
    "system_prompt = \"\"\"\n",
    "You are an expert financial advisor AI, specializing in personal credit improvement. \n",
    "Your role is to analyze any credit-related data the user provides and then generate \n",
    "a clear, concise set of recommendations. \n",
    "\n",
    "- You will receive a user prompt containing specific credit data fields. \n",
    "- You should use chain-of-thought reasoning internally to arrive at your conclusion, \n",
    "  but only provide a concise and understandable explanation of your final recommendations \n",
    "  in the answer (i.e., do not expose all intermediate reasoning steps verbatim). \n",
    "- Your final output should be organized, practical, and directly address how the user \n",
    "  can improve their credit score based on the data provided.\n",
    "\n",
    "Remember:\n",
    "1. Stay on topic: The conversation is about credit improvement advice. \n",
    "2. Provide clear, actionable steps in your response, referencing the user’s data. \n",
    "3. If the user asks for chain-of-thought, provide a summarized or ‘mini’ version \n",
    "   rather than full internal reasoning.\n",
    "\n",
    "\"\"\""
   ]
  },
  {
   "cell_type": "code",
   "execution_count": 75,
   "metadata": {},
   "outputs": [],
   "source": [
    "user_prompt = f\"\"\"\n",
    "Below is my credit data. Please analyze it step by step using chain-of-thought reasoning \n",
    "and produce a concise set of personalized recommendations that explain what actions \n",
    "I can take to improve my credit score. \n",
    "For each recommendation, briefly mention how it ties back to the relevant data. \n",
    "\n",
    "Here is the data:\n",
    "\n",
    "Credit Score: {credit_score}\n",
    "Payment History:\n",
    "- On-Time Payment Percentage: {ontime_payment_pct}\n",
    "- Late Payment Percentage: {late_payment_pct}\n",
    "- No. of Delinquent Accounts: {delinquent_accounts}\n",
    "- No. of Derogatory Accounts: {derogatory_accounts}\n",
    "Credit Utilization:\n",
    "- Credit Utilization: {utilization}\n",
    "- Total Balances: {total_balances}\n",
    "- Total Available Credit: {available_credit}\n",
    "- Installment Balances: {installment_balances}\n",
    "- Revolving Balances: {revolving_balances}\n",
    "Length of Credit History:\n",
    "- Date of Oldest Trade: {date_of_oldest_trade}\n",
    "- Age of Credit in Years: {age_of_credit}\n",
    "Credit Mix:\n",
    "- Total Open Installment Accounts: {total_installment}\n",
    "- Total Open Revolving Accounts: {total_revolving}\n",
    "\n",
    "\n",
    "### Instructions:\n",
    "1. First, identify the user’s critical issues that most affect the credit score. \n",
    "2. Next, propose at least three prioritized recommendations on how to address these issues. \n",
    "3. Provide a short explanation for each recommendation, connecting it to the specific data. \n",
    "4. Present the final answer in a concise, actionable format.\n",
    "\n",
    "Please begin by laying out your thought process briefly (chain-of-thought style), \n",
    "and then summarize your final recommendations.\n",
    "\n",
    "\"\"\""
   ]
  },
  {
   "cell_type": "markdown",
   "metadata": {},
   "source": [
    "## Attempt 2: gpt-3.5-turbo, specify format given by o1 model"
   ]
  },
  {
   "cell_type": "code",
   "execution_count": 112,
   "metadata": {},
   "outputs": [],
   "source": [
    "system_prompt = \"\"\"\n",
    "Please analyze the credit score data provided above and generate a concise, user-friendly explanation of the credit situation. Follow the format:\n",
    "\n",
    "Score Health\n",
    "Key Negative Factors\n",
    "Positive Factors (or Less Negative)\n",
    "What Might Help Improve the Score\n",
    "Conclusion\n",
    "\n",
    "Focus on late payments, collections, the lack of open revolving accounts, and other important factors that contribute to a VantageScore 3. \n",
    "Provide clear, actionable steps to help improve the score. \n",
    "\"\"\""
   ]
  },
  {
   "cell_type": "code",
   "execution_count": 113,
   "metadata": {},
   "outputs": [],
   "source": [
    "user_prompt = \"\"\"\n",
    "You are a credit analysis assistant. You are given a detailed credit report and must provide an expert summary and recommendations in a specific, structured format. \n",
    "\n",
    "You must:\n",
    "1. Use the credit score data to inform your analysis. \n",
    "2. Clearly highlight any issues that could be impacting the user’s credit score (e.g., delinquent accounts, late payments, collections).\n",
    "3. List any positive or less negative elements (e.g., age of credit, on-time payments, account diversity).\n",
    "4. Provide recommendations for improving the score, focusing on actionable steps (e.g., addressing collections, making on-time payments, adding a secured card).\n",
    "5. Write concisely in plain language. \n",
    "6. Do not reveal or explain your internal chain of thought. Present only the final written content.\n",
    "\n",
    "Here is the credit score data you will use for your analysis:\n",
    "\n",
    "{\n",
    "  \"_id\": \"66ec502cc0b33822acefb102\",\n",
    "  \"user_id\": \"6515c12f1ddcd17a423751ee\",\n",
    "  \"user_email\": \"399777dcde15a99f492a3f21b4b26e5e3127d2512f71e0cb0e6f568d7eb43e06\",\n",
    "  \"created_at\": \"2024-09-19 16:24:12.712\",\n",
    "  \"credit_report_frozen\": false,\n",
    "  \"deleted\": false,\n",
    "  \"is_enrolled\": true,\n",
    "  \"updated_at\": \"2025-02-21 07:30:59.182\",\n",
    "  \"population_rank\": 10,\n",
    "  \"snap_shot__open_accounts\": 6,\n",
    "  \"snap_shot__total_closed_accounts\": null,\n",
    "  \"snap_shot__closed_accounts\": 6,\n",
    "  \"snap_shot__total_accounts\": 12,\n",
    "  \"snap_shot__delinquent_accounts\": 2,\n",
    "  \"snap_shot__derogatory_accounts\": 4,\n",
    "  \"snap_shot__total_balances\": 12802.0,\n",
    "  \"snap_shot__total_monthly_payments\": 291,\n",
    "  \"snap_shot__number_of_inquiries\": 5,\n",
    "  \"snap_shot__total_public_records\": 0,\n",
    "  \"snap_shot__available_credit\": 0.0,\n",
    "  \"snap_shot__utilization\": 0.0,\n",
    "  \"snap_shot__date_of_oldest_trade\": \"2020-04-08\",\n",
    "  \"snap_shot__age_of_credit\": 4.9,\n",
    "  \"snap_shot__total_open_installment_accounts\": 1,\n",
    "  \"snap_shot__total_open_collection_accounts\": 3,\n",
    "  \"snap_shot__total_open_mortgage_accounts\": 0,\n",
    "  \"snap_shot__total_open_revolving_accounts\": 0,\n",
    "  \"snap_shot__total_open_other_accounts\": 2,\n",
    "  \"snap_shot__balance_open_installment_accounts\": 8080,\n",
    "  \"snap_shot__balance_open_collection_accounts\": 4491,\n",
    "  \"snap_shot__balance_open_mortgage_accounts\": 0,\n",
    "  \"snap_shot__balance_open_revolving_accounts\": 0,\n",
    "  \"snap_shot__balance_open_other_accounts\": 0,\n",
    "  \"snap_shot__on_time_payment_percentage\": \"77.78%\",\n",
    "  \"snap_shot__late_payment_percentage\": \"22.22%\",\n",
    "  \"thin_file__description\": null,\n",
    "  \"vantage_score3\": 517,\n",
    "  \"vantage_score_category\": \"Poor\"\n",
    "}\n",
    "\n",
    "Ensure the final response includes all pertinent details and recommendations in the specified format.\n",
    "\"\"\""
   ]
  },
  {
   "cell_type": "code",
   "execution_count": 114,
   "metadata": {},
   "outputs": [
    {
     "name": "stdout",
     "output_type": "stream",
     "text": [
      "\n",
      "You are a credit analysis assistant. You are given a detailed credit report and must provide an expert summary and recommendations in a specific, structured format. \n",
      "\n",
      "You must:\n",
      "1. Use the credit score data to inform your analysis. \n",
      "2. Clearly highlight any issues that could be impacting the user’s credit score (e.g., delinquent accounts, late payments, collections).\n",
      "3. List any positive or less negative elements (e.g., age of credit, on-time payments, account diversity).\n",
      "4. Provide recommendations for improving the score, focusing on actionable steps (e.g., addressing collections, making on-time payments, adding a secured card).\n",
      "5. Write concisely in plain language. \n",
      "6. Do not reveal or explain your internal chain of thought. Present only the final written content.\n",
      "\n",
      "Here is the credit score data you will use for your analysis:\n",
      "\n",
      "{\n",
      "  \"_id\": \"66ec502cc0b33822acefb102\",\n",
      "  \"user_id\": \"6515c12f1ddcd17a423751ee\",\n",
      "  \"user_email\": \"399777dcde15a99f492a3f21b4b26e5e3127d2512f71e0cb0e6f568d7eb43e06\",\n",
      "  \"created_at\": \"2024-09-19 16:24:12.712\",\n",
      "  \"credit_report_frozen\": false,\n",
      "  \"deleted\": false,\n",
      "  \"is_enrolled\": true,\n",
      "  \"updated_at\": \"2025-02-21 07:30:59.182\",\n",
      "  \"population_rank\": 10,\n",
      "  \"snap_shot__open_accounts\": 6,\n",
      "  \"snap_shot__total_closed_accounts\": null,\n",
      "  \"snap_shot__closed_accounts\": 6,\n",
      "  \"snap_shot__total_accounts\": 12,\n",
      "  \"snap_shot__delinquent_accounts\": 2,\n",
      "  \"snap_shot__derogatory_accounts\": 4,\n",
      "  \"snap_shot__total_balances\": 12802.0,\n",
      "  \"snap_shot__total_monthly_payments\": 291,\n",
      "  \"snap_shot__number_of_inquiries\": 5,\n",
      "  \"snap_shot__total_public_records\": 0,\n",
      "  \"snap_shot__available_credit\": 0.0,\n",
      "  \"snap_shot__utilization\": 0.0,\n",
      "  \"snap_shot__date_of_oldest_trade\": \"2020-04-08\",\n",
      "  \"snap_shot__age_of_credit\": 4.9,\n",
      "  \"snap_shot__total_open_installment_accounts\": 1,\n",
      "  \"snap_shot__total_open_collection_accounts\": 3,\n",
      "  \"snap_shot__total_open_mortgage_accounts\": 0,\n",
      "  \"snap_shot__total_open_revolving_accounts\": 0,\n",
      "  \"snap_shot__total_open_other_accounts\": 2,\n",
      "  \"snap_shot__balance_open_installment_accounts\": 8080,\n",
      "  \"snap_shot__balance_open_collection_accounts\": 4491,\n",
      "  \"snap_shot__balance_open_mortgage_accounts\": 0,\n",
      "  \"snap_shot__balance_open_revolving_accounts\": 0,\n",
      "  \"snap_shot__balance_open_other_accounts\": 0,\n",
      "  \"snap_shot__on_time_payment_percentage\": \"77.78%\",\n",
      "  \"snap_shot__late_payment_percentage\": \"22.22%\",\n",
      "  \"thin_file__description\": null,\n",
      "  \"vantage_score3\": 517,\n",
      "  \"vantage_score_category\": \"Poor\"\n",
      "}\n",
      "\n",
      "Ensure the final response includes all pertinent details and recommendations in the specified format.\n",
      "\n"
     ]
    }
   ],
   "source": [
    "print(user_prompt)"
   ]
  },
  {
   "cell_type": "code",
   "execution_count": 119,
   "metadata": {},
   "outputs": [],
   "source": [
    "response = get_top5(system_prompt,user_prompt,model='gpt-3.5-turbo-0125')"
   ]
  },
  {
   "cell_type": "code",
   "execution_count": 120,
   "metadata": {},
   "outputs": [
    {
     "name": "stdout",
     "output_type": "stream",
     "text": [
      "Credit Score Analysis:\n",
      "\n",
      "Score Health: Poor\n",
      "\n",
      "Key Negative Factors:\n",
      "1. Delinquent Accounts: 2 delinquent accounts impacting the score.\n",
      "2. Lack of Open Revolving Accounts: No open revolving accounts which can affect credit utilization.\n",
      "3. Late Payment Percentage: 22.22% late payment rate.\n",
      "\n",
      "Positive Factors (or Less Negative):\n",
      "1. On-Time Payment Percentage: 77.78% on-time payments demonstrate some responsible credit behavior.\n",
      "2. Age of Credit: Credit accounts have an average age of 4.9 years, which is relatively stable.\n",
      "\n",
      "What Might Help Improve the Score:\n",
      "1. Address Delinquent Accounts: Focus on resolving the 2 delinquent accounts to stop further negative impact.\n",
      "2. Establish Revolving Accounts: Consider opening a secured credit card to improve credit utilization.\n",
      "3. Improve Payment Timeliness: Strive to make all future payments on time to reduce the late payment percentage.\n",
      "\n",
      "Conclusion:\n",
      "The credit score of 517 is currently categorized as poor due to delinquent accounts, late payments, and a lack of open revolving accounts. By addressing delinquencies, adding revolving accounts, and consistently making on-time payments, there is potential to improve the credit score over time. Taking proactive steps towards these recommendations can lead to a better credit standing in the future.\n"
     ]
    }
   ],
   "source": [
    "print(response.choices[0].message.content)"
   ]
  },
  {
   "cell_type": "markdown",
   "metadata": {},
   "source": [
    "## Attempt 3: gpt-4o-mini, format by O1"
   ]
  },
  {
   "cell_type": "code",
   "execution_count": 117,
   "metadata": {},
   "outputs": [],
   "source": [
    "response = get_top5(system_prompt,user_prompt,model='gpt-4o-mini')"
   ]
  },
  {
   "cell_type": "code",
   "execution_count": 118,
   "metadata": {},
   "outputs": [
    {
     "name": "stdout",
     "output_type": "stream",
     "text": [
      "**Score Health**  \n",
      "Your current VantageScore 3 is 517, which falls into the \"Poor\" category. This indicates significant challenges in your credit profile.\n",
      "\n",
      "**Key Negative Factors**  \n",
      "- **Late Payments**: 22.22% of your payments are late, which directly impacts your score negatively.\n",
      "- **Delinquent Accounts**: You have 2 delinquent accounts that are affecting your credit standing.\n",
      "- **Collections**: There are 3 open collection accounts with a total balance of $4,491.\n",
      "- **Lack of Revolving Accounts**: You have no open revolving accounts, which is crucial for improving your score and credit mix.\n",
      "\n",
      "**Positive Factors (or Less Negative)**  \n",
      "- **Number of Accounts**: You have a total of 12 accounts, which shows some diversity.\n",
      "- **Age of Credit**: Your average credit age is 4.9 years, indicating some credit history.\n",
      "- **Closed Accounts**: Having a closed account history (6 closed accounts) may not be negative, depending on how they were managed.\n",
      "\n",
      "**What Might Help Improve the Score**  \n",
      "1. **Make On-Time Payments**: Focus on paying all current and future debts on time to boost your on-time payment percentage.\n",
      "2. **Resolve Collections**: Work on settling or negotiating the collection accounts to reduce the outstanding balance and improve your credit profile.\n",
      "3. **Open a Revolving Account**: Consider applying for a secured credit card to build or improve your credit utilization and mix of credit types.\n",
      "4. **Limit New Inquiries**: Avoid applying for new credit frequently, as you have 5 inquiries, which can also negatively affect your score.\n",
      "\n",
      "**Conclusion**  \n",
      "Improving your credit score requires consistent financial habits and addressing existing issues. Start by making all payments on time and focusing on resolving collection accounts. Additionally, opening a revolving credit account could provide a buffer to enhance your credit mix and utilization ratio. These steps will help to make gradual improvements over time towards a healthier credit score.\n"
     ]
    }
   ],
   "source": [
    "print(response.choices[0].message.content)"
   ]
  },
  {
   "cell_type": "markdown",
   "metadata": {},
   "source": [
    "# JSON mode"
   ]
  },
  {
   "cell_type": "markdown",
   "metadata": {},
   "source": [
    "## Attempt 4: gpt-4o-mini, json mode"
   ]
  },
  {
   "cell_type": "code",
   "execution_count": 10,
   "metadata": {},
   "outputs": [],
   "source": [
    "system_prompt = \"\"\"\n",
    "Please analyze the credit score data provided above and generate a concise, user-friendly explanation of the credit situation. \n",
    "Your response must be in valid JSON format and include only the following keys:\n",
    "{\n",
    "  \"Score Health\": \"\",\n",
    "  \"Key Negative Factors\": [],\n",
    "  \"Positive Factors (or Less Negative)\": [],\n",
    "  \"What Might Help Improve the Score\": [],\n",
    "  \"Conclusion\": \"\"\n",
    "}\n",
    "\n",
    "Focus on late payments, collections, the lack of open revolving accounts, and other important factors that contribute to a VantageScore 3. \n",
    "Provide clear, actionable steps to help improve the score. \n",
    "\"\"\""
   ]
  },
  {
   "cell_type": "code",
   "execution_count": 11,
   "metadata": {},
   "outputs": [],
   "source": [
    "user_prompt = \"\"\"\n",
    "You are a credit analysis assistant. You are given a detailed credit report and must provide an expert summary and recommendations in a specific, structured format. \n",
    "\n",
    "You must:\n",
    "1. Use the credit score data to inform your analysis. \n",
    "2. Clearly highlight any issues that could be impacting the user’s credit score (e.g., delinquent accounts, late payments, collections).\n",
    "3. List any positive or less negative elements (e.g., age of credit, on-time payments, account diversity).\n",
    "4. Provide recommendations for improving the score, focusing on actionable steps (e.g., addressing collections, making on-time payments, adding a secured card).\n",
    "5. Write concisely in plain language. \n",
    "6. Do not reveal or explain your internal chain of thought. Present only the final written content.\n",
    "\n",
    "Here is the credit score data you will use for your analysis:\n",
    "\n",
    "{\n",
    "  \"_id\": \"66ec502cc0b33822acefb102\",\n",
    "  \"user_id\": \"6515c12f1ddcd17a423751ee\",\n",
    "  \"user_email\": \"399777dcde15a99f492a3f21b4b26e5e3127d2512f71e0cb0e6f568d7eb43e06\",\n",
    "  \"created_at\": \"2024-09-19 16:24:12.712\",\n",
    "  \"credit_report_frozen\": false,\n",
    "  \"deleted\": false,\n",
    "  \"is_enrolled\": true,\n",
    "  \"updated_at\": \"2025-02-21 07:30:59.182\",\n",
    "  \"population_rank\": 10,\n",
    "  \"snap_shot__open_accounts\": 6,\n",
    "  \"snap_shot__total_closed_accounts\": null,\n",
    "  \"snap_shot__closed_accounts\": 6,\n",
    "  \"snap_shot__total_accounts\": 12,\n",
    "  \"snap_shot__delinquent_accounts\": 2,\n",
    "  \"snap_shot__derogatory_accounts\": 4,\n",
    "  \"snap_shot__total_balances\": 12802.0,\n",
    "  \"snap_shot__total_monthly_payments\": 291,\n",
    "  \"snap_shot__number_of_inquiries\": 5,\n",
    "  \"snap_shot__total_public_records\": 0,\n",
    "  \"snap_shot__available_credit\": 0.0,\n",
    "  \"snap_shot__utilization\": 0.0,\n",
    "  \"snap_shot__date_of_oldest_trade\": \"2020-04-08\",\n",
    "  \"snap_shot__age_of_credit\": 4.9,\n",
    "  \"snap_shot__total_open_installment_accounts\": 1,\n",
    "  \"snap_shot__total_open_collection_accounts\": 3,\n",
    "  \"snap_shot__total_open_mortgage_accounts\": 0,\n",
    "  \"snap_shot__total_open_revolving_accounts\": 0,\n",
    "  \"snap_shot__total_open_other_accounts\": 2,\n",
    "  \"snap_shot__balance_open_installment_accounts\": 8080,\n",
    "  \"snap_shot__balance_open_collection_accounts\": 4491,\n",
    "  \"snap_shot__balance_open_mortgage_accounts\": 0,\n",
    "  \"snap_shot__balance_open_revolving_accounts\": 0,\n",
    "  \"snap_shot__balance_open_other_accounts\": 0,\n",
    "  \"snap_shot__on_time_payment_percentage\": \"77.78%\",\n",
    "  \"snap_shot__late_payment_percentage\": \"22.22%\",\n",
    "  \"thin_file__description\": null,\n",
    "  \"vantage_score3\": 517,\n",
    "  \"vantage_score_category\": \"Poor\"\n",
    "}\n",
    "\n",
    "Ensure the final response includes all pertinent details and recommendations in the specified format.\n",
    "\"\"\""
   ]
  },
  {
   "cell_type": "code",
   "execution_count": 12,
   "metadata": {},
   "outputs": [
    {
     "name": "stdout",
     "output_type": "stream",
     "text": [
      "{\n",
      "  \"Score Health\": \"Poor\",\n",
      "  \"Key Negative Factors\": [\n",
      "    \"Delinquent accounts: 2\",\n",
      "    \"Derogatory accounts: 4\",\n",
      "    \"Late payment percentage: 22.22%\",\n",
      "    \"No open revolving accounts\",\n",
      "    \"High balance on collection accounts\"\n",
      "  ],\n",
      "  \"Positive Factors (or Less Negative)\": [\n",
      "    \"Age of credit: 4.9 years\",\n",
      "    \"On-time payment percentage: 77.78%\",\n",
      "    \"Total accounts: 12\"\n",
      "  ],\n",
      "  \"What Might Help Improve the Score\": [\n",
      "    \"Address delinquent and derogatory accounts by making payments or negotiating with creditors\",\n",
      "    \"Establish one or more open revolving accounts, such as a secured credit card\",\n",
      "    \"Reduce the balances on collection accounts through repayment plans\",\n",
      "    \"Ensure all future payments are made on time to improve on-time payment percentage\"\n",
      "  ],\n",
      "  \"Conclusion\": \"Your credit score is currently poor due to a combination of delinquent accounts, derogatory marks, and the absence of revolving credit. Focusing on addressing negative accounts and building a positive credit history with on-time payments and new revolving credit can significantly improve your score over time.\"\n",
      "}\n"
     ]
    }
   ],
   "source": [
    "response = get_top5(system_prompt,user_prompt,model='gpt-4o-mini')\n",
    "print(response.choices[0].message.content)"
   ]
  },
  {
   "cell_type": "code",
   "execution_count": 13,
   "metadata": {},
   "outputs": [
    {
     "data": {
      "text/plain": [
       "'Poor'"
      ]
     },
     "execution_count": 13,
     "metadata": {},
     "output_type": "execute_result"
    }
   ],
   "source": [
    "result_json = json.loads(response.choices[0].message.content)\n",
    "result_json['Score Health']"
   ]
  },
  {
   "cell_type": "markdown",
   "metadata": {},
   "source": [
    "## Attempt 5: gpt-4o-mini, json mode, add instructions to get better response"
   ]
  },
  {
   "cell_type": "code",
   "execution_count": 50,
   "metadata": {},
   "outputs": [],
   "source": [
    "system_prompt = \"\"\"\n",
    "You are a warm, empathetic credit analysis with expertise in VantageScore 3.0. You are given credit score data and must produce a concise, user-friendly explanation of the credit situation in valid JSON. \n",
    "The style of your response should be encouraging and supportive, while still communicating important details and actionable steps. \n",
    "\n",
    "Your response must use exactly the following JSON structure and keys (no extra keys or nesting):\n",
    "{\n",
    "  \"Score Health\": \"\",\n",
    "  \"Key Negative Factors\": [],\n",
    "  \"Positive Factors (or Less Negative)\": [],\n",
    "  \"What Might Help Improve the Score\": [],\n",
    "  \"Conclusion\": \"\",\n",
    "  \"Summary\": \"\"\n",
    "}\n",
    "\n",
    "Important:\n",
    "1. Keep the JSON valid—no additional fields or text outside of the JSON object.\n",
    "2. Use an empathetic yet clear tone. \n",
    "3. Do not just give a value. Elaborate each point in a concise way\n",
    "4. Provide specific details about factors affecting credit score and easy to understand explanation.\n",
    "5. Focus more on factors that have greater impact on credit score\n",
    "6. in each factor, give the factor values before writing the explanation\n",
    "7. Offer actionable recommendations in the \"What Might Help Improve the Score\" section.\n",
    "8. Keep each list entry short but supportive, avoiding overly dry or blunt language, and elaborate each point in a concise way on why is the factor important\n",
    "9. Focus on empowering the user to take steps that improve their credit score.\n",
    "\n",
    "\"\"\""
   ]
  },
  {
   "cell_type": "code",
   "execution_count": 51,
   "metadata": {},
   "outputs": [],
   "source": [
    "user_prompt = \"\"\"\n",
    "Analyze the following credit score data and produce an output in valid JSON format (using the keys defined in the system prompt). Incorporate an empathetic, encouraging tone while providing a detailed breakdown of the credit situation and clear recommendations:\n",
    "\n",
    "{\n",
    "  \"_id\": \"66ec502cc0b33822acefb102\",\n",
    "  \"user_id\": \"6515c12f1ddcd17a423751ee\",\n",
    "  \"user_email\": \"399777dcde15a99f492a3f21b4b26e5e3127d2512f71e0cb0e6f568d7eb43e06\",\n",
    "  \"created_at\": \"2024-09-19 16:24:12.712\",\n",
    "  \"credit_report_frozen\": false,\n",
    "  \"deleted\": false,\n",
    "  \"is_enrolled\": true,\n",
    "  \"updated_at\": \"2025-02-21 07:30:59.182\",\n",
    "  \"population_rank\": 10,\n",
    "  \"snap_shot__open_accounts\": 6,\n",
    "  \"snap_shot__total_closed_accounts\": null,\n",
    "  \"snap_shot__closed_accounts\": 6,\n",
    "  \"snap_shot__total_accounts\": 12,\n",
    "  \"snap_shot__delinquent_accounts\": 2,\n",
    "  \"snap_shot__derogatory_accounts\": 4,\n",
    "  \"snap_shot__total_balances\": 12802.0,\n",
    "  \"snap_shot__total_monthly_payments\": 291,\n",
    "  \"snap_shot__number_of_inquiries\": 5,\n",
    "  \"snap_shot__total_public_records\": 0,\n",
    "  \"snap_shot__available_credit\": 0.0,\n",
    "  \"snap_shot__utilization\": 0.0,\n",
    "  \"snap_shot__date_of_oldest_trade\": \"2020-04-08\",\n",
    "  \"snap_shot__age_of_credit\": 4.9,\n",
    "  \"snap_shot__total_open_installment_accounts\": 1,\n",
    "  \"snap_shot__total_open_collection_accounts\": 3,\n",
    "  \"snap_shot__total_open_mortgage_accounts\": 0,\n",
    "  \"snap_shot__total_open_revolving_accounts\": 0,\n",
    "  \"snap_shot__total_open_other_accounts\": 2,\n",
    "  \"snap_shot__balance_open_installment_accounts\": 8080,\n",
    "  \"snap_shot__balance_open_collection_accounts\": 4491,\n",
    "  \"snap_shot__balance_open_mortgage_accounts\": 0,\n",
    "  \"snap_shot__balance_open_revolving_accounts\": 0,\n",
    "  \"snap_shot__balance_open_other_accounts\": 0,\n",
    "  \"snap_shot__on_time_payment_percentage\": \"77.78%\",\n",
    "  \"snap_shot__late_payment_percentage\": \"22.22%\",\n",
    "  \"thin_file__description\": null,\n",
    "  \"vantage_score3\": 517,\n",
    "  \"vantage_score_category\": \"Poor\"\n",
    "}\n",
    "\n",
    "Please ensure your final answer is supportive, understandable, and presented solely as a JSON object with the specified structure.\n",
    "\"\"\""
   ]
  },
  {
   "cell_type": "code",
   "execution_count": 52,
   "metadata": {},
   "outputs": [
    {
     "name": "stdout",
     "output_type": "stream",
     "text": [
      "{\n",
      "  \"Score Health\": \"Your current credit score is 517, placing you in the 'Poor' category. This indicates there are several areas for improvement we can work on together.\",\n",
      "  \"Key Negative Factors\": [\n",
      "    \"Delinquent Accounts: 2 - These accounts have not been paid as agreed, which negatively impacts your score.\",\n",
      "    \"Derogatory Accounts: 4 - These accounts reflect serious issues like defaults or charge-offs, making it harder to get new credit.\",\n",
      "    \"High Balance on Installment Accounts: $8,080 - A high outstanding balance can suggest a risk to lenders.\",\n",
      "    \"Late Payment Percentage: 22.22% - Missing payments can significantly hurt your score, as it reflects negatively on your credit responsibility.\"\n",
      "  ],\n",
      "  \"Positive Factors (or Less Negative)\": [\n",
      "    \"On-Time Payment Percentage: 77.78% - You have managed to make most of your payments on time, which is a great foundation to build on.\",\n",
      "    \"Credit Age: 4.9 years - A longer credit history can work in your favor, especially if you keep improving your payment habits.\"\n",
      "  ],\n",
      "  \"What Might Help Improve the Score\": [\n",
      "    \"Pay Down Delinquent Accounts - Focus on addressing those 2 delinquent accounts to help improve your overall credit standing.\",\n",
      "    \"Set Up a Payment Plan - Consider working with creditors to arrange manageable payment plans for your outstanding balances.\",\n",
      "    \"Make Payments on Time - Aim to consistently pay all your bills on time; even small amounts can help improve your score over time.\",\n",
      "    \"Limit New Credit Inquiries - Try to avoid opening new accounts right now, as each inquiry can have a temporary negative impact on your score.\"\n",
      "  ],\n",
      "  \"Conclusion\": \"While your current score may feel discouraging, with deliberate efforts and a bit of time, you can absolutely improve it. Every step you take counts!\",\n",
      "  \"Summary\": \"You are currently facing challenges with delinquent and derogatory accounts, but you've shown great reliability with most payments. Focusing on addressing past due debts and making timely payments will empower you to gradually build up your credit score.\"\n",
      "}\n"
     ]
    }
   ],
   "source": [
    "response = get_top5(system_prompt,user_prompt,model='gpt-4o-mini')\n",
    "print(response.choices[0].message.content)"
   ]
  },
  {
   "cell_type": "code",
   "execution_count": 53,
   "metadata": {},
   "outputs": [
    {
     "data": {
      "text/plain": [
       "{'Score Health': \"Your current credit score is 517, placing you in the 'Poor' category. This indicates there are several areas for improvement we can work on together.\",\n",
       " 'Key Negative Factors': ['Delinquent Accounts: 2 - These accounts have not been paid as agreed, which negatively impacts your score.',\n",
       "  'Derogatory Accounts: 4 - These accounts reflect serious issues like defaults or charge-offs, making it harder to get new credit.',\n",
       "  'High Balance on Installment Accounts: $8,080 - A high outstanding balance can suggest a risk to lenders.',\n",
       "  'Late Payment Percentage: 22.22% - Missing payments can significantly hurt your score, as it reflects negatively on your credit responsibility.'],\n",
       " 'Positive Factors (or Less Negative)': ['On-Time Payment Percentage: 77.78% - You have managed to make most of your payments on time, which is a great foundation to build on.',\n",
       "  'Credit Age: 4.9 years - A longer credit history can work in your favor, especially if you keep improving your payment habits.'],\n",
       " 'What Might Help Improve the Score': ['Pay Down Delinquent Accounts - Focus on addressing those 2 delinquent accounts to help improve your overall credit standing.',\n",
       "  'Set Up a Payment Plan - Consider working with creditors to arrange manageable payment plans for your outstanding balances.',\n",
       "  'Make Payments on Time - Aim to consistently pay all your bills on time; even small amounts can help improve your score over time.',\n",
       "  'Limit New Credit Inquiries - Try to avoid opening new accounts right now, as each inquiry can have a temporary negative impact on your score.'],\n",
       " 'Conclusion': 'While your current score may feel discouraging, with deliberate efforts and a bit of time, you can absolutely improve it. Every step you take counts!',\n",
       " 'Summary': \"You are currently facing challenges with delinquent and derogatory accounts, but you've shown great reliability with most payments. Focusing on addressing past due debts and making timely payments will empower you to gradually build up your credit score.\"}"
      ]
     },
     "execution_count": 53,
     "metadata": {},
     "output_type": "execute_result"
    }
   ],
   "source": [
    "result_json = json.loads(response.choices[0].message.content)\n",
    "# result_json['Key Negative Factors']\n",
    "result_json"
   ]
  },
  {
   "cell_type": "markdown",
   "metadata": {},
   "source": [
    "## Attempt 6: gpt-4o-mini, change section name"
   ]
  },
  {
   "cell_type": "code",
   "execution_count": null,
   "metadata": {},
   "outputs": [],
   "source": [
    "system_prompt = \"\"\"\n",
    "You are a warm, empathetic credit analysis with expertise in VantageScore 3.0. You are given credit score data and must produce a concise, user-friendly explanation of the credit situation in valid JSON. \n",
    "The style of your response should be encouraging and supportive, while still communicating important details and actionable steps. \n",
    "\n",
    "Your response must use exactly the following JSON structure and keys (no extra keys or nesting):\n",
    "{\n",
    "  \"Score Health\": \"\",\n",
    "  \"What's dragging down your score?\": [],\n",
    "  \"What's boosting your score?\": [],\n",
    "  \"What might help improve the score?\": [],\n",
    "  \"Conclusion\": \"\",\n",
    "  \"Summary\": \"\"\n",
    "}\n",
    "\n",
    "Important:\n",
    "1. Keep the JSON valid—no additional fields or text outside of the JSON object.\n",
    "2. Use an empathetic yet clear tone. \n",
    "3. Do not just give a value. Elaborate each point in a concise way\n",
    "4. Provide specific details about factors affecting credit score and easy to understand explanation.\n",
    "5. Focus more on factors that have greater impact on credit score\n",
    "6. in each factor, give the factor values before writing the explanation\n",
    "7. Offer actionable recommendations in the \"What Might Help Improve the Score\" section.\n",
    "8. Keep each list entry short but supportive, avoiding overly dry or blunt language, and elaborate each point in a concise way on why is the factor important\n",
    "9. Focus on empowering the user to take steps that improve their credit score.\n",
    "\"\"\""
   ]
  },
  {
   "cell_type": "code",
   "execution_count": 55,
   "metadata": {},
   "outputs": [],
   "source": [
    "user_prompt = \"\"\"\n",
    "Analyze the following credit score data and produce an output in valid JSON format (using the keys defined in the system prompt). Incorporate an empathetic, encouraging tone while providing a detailed breakdown of the credit situation and clear recommendations:\n",
    "\n",
    "{\n",
    "  \"_id\": \"66ec502cc0b33822acefb102\",\n",
    "  \"user_id\": \"6515c12f1ddcd17a423751ee\",\n",
    "  \"user_email\": \"399777dcde15a99f492a3f21b4b26e5e3127d2512f71e0cb0e6f568d7eb43e06\",\n",
    "  \"created_at\": \"2024-09-19 16:24:12.712\",\n",
    "  \"credit_report_frozen\": false,\n",
    "  \"deleted\": false,\n",
    "  \"is_enrolled\": true,\n",
    "  \"updated_at\": \"2025-02-21 07:30:59.182\",\n",
    "  \"population_rank\": 10,\n",
    "  \"snap_shot__open_accounts\": 6,\n",
    "  \"snap_shot__total_closed_accounts\": null,\n",
    "  \"snap_shot__closed_accounts\": 6,\n",
    "  \"snap_shot__total_accounts\": 12,\n",
    "  \"snap_shot__delinquent_accounts\": 2,\n",
    "  \"snap_shot__derogatory_accounts\": 4,\n",
    "  \"snap_shot__total_balances\": 12802.0,\n",
    "  \"snap_shot__total_monthly_payments\": 291,\n",
    "  \"snap_shot__number_of_inquiries\": 5,\n",
    "  \"snap_shot__total_public_records\": 0,\n",
    "  \"snap_shot__available_credit\": 0.0,\n",
    "  \"snap_shot__utilization\": 0.0,\n",
    "  \"snap_shot__date_of_oldest_trade\": \"2020-04-08\",\n",
    "  \"snap_shot__age_of_credit\": 4.9,\n",
    "  \"snap_shot__total_open_installment_accounts\": 1,\n",
    "  \"snap_shot__total_open_collection_accounts\": 3,\n",
    "  \"snap_shot__total_open_mortgage_accounts\": 0,\n",
    "  \"snap_shot__total_open_revolving_accounts\": 0,\n",
    "  \"snap_shot__total_open_other_accounts\": 2,\n",
    "  \"snap_shot__balance_open_installment_accounts\": 8080,\n",
    "  \"snap_shot__balance_open_collection_accounts\": 4491,\n",
    "  \"snap_shot__balance_open_mortgage_accounts\": 0,\n",
    "  \"snap_shot__balance_open_revolving_accounts\": 0,\n",
    "  \"snap_shot__balance_open_other_accounts\": 0,\n",
    "  \"snap_shot__on_time_payment_percentage\": \"77.78%\",\n",
    "  \"snap_shot__late_payment_percentage\": \"22.22%\",\n",
    "  \"thin_file__description\": null,\n",
    "  \"vantage_score3\": 517,\n",
    "  \"vantage_score_category\": \"Poor\"\n",
    "}\n",
    "\n",
    "Please ensure your final answer is supportive, understandable, and presented solely as a JSON object with the specified structure.\n",
    "\"\"\""
   ]
  },
  {
   "cell_type": "code",
   "execution_count": 57,
   "metadata": {},
   "outputs": [
    {
     "name": "stdout",
     "output_type": "stream",
     "text": [
      "{\n",
      "  \"Score Health\": \"Your current VantageScore is 517, which falls into the 'Poor' category. This indicates that there are significant challenges to overcome to improve your credit health. However, every step you take towards better credit is a positive move.\",\n",
      "  \"What's dragging down your score?\": [\n",
      "    \"Delinquent Accounts: 2 accounts. Having unpaid debts can seriously affect your score, signaling to lenders that you may struggle with repayments.\",\n",
      "    \"Derogatory Accounts: 4 accounts. These negative marks suggest a history of late payments or defaults, making you appear a higher risk to lenders.\",\n",
      "    \"Late Payment Percentage: 22.22%. Missing payments can have a considerable impact on your credit score, as payment history is one of the most critical factors in scoring models.\",\n",
      "    \"No Available Credit: $0. This indicates a lack of open revolving accounts, which can limit your credit utilization and overall score potential.\"\n",
      "  ],\n",
      "  \"What's boosting your score?\": [\n",
      "    \"On-Time Payment Percentage: 77.78%. While there may be some late payments, consistently paying on time overall is notable and can help rebuild your score over time.\",\n",
      "    \"Age of Credit: 4.9 years. A longer credit history can positively influence your score as it shows reliability, even if there are some blemishes.\"\n",
      "  ],\n",
      "  \"What Might Help Improve the Score\": [\n",
      "    \"Address Delinquent Accounts: Make arrangements to pay off or negotiate your delinquent accounts, which can help improve your score over time.\",\n",
      "    \"Focus on Timely Payments: Keep the 77.78% on-time payment rate going strong. Set up reminders or automatic payments to ensure you don’t miss any due dates.\",\n",
      "    \"Consider a Secured Credit Card: If possible, open a secured credit card to increase available credit and improve your credit utilization ratio.\",\n",
      "    \"Regularly Monitor Your Credit Report: Keep an eye on your credit report to track progress and to ensure there are no errors that affect your score.\"\n",
      "  ],\n",
      "  \"Conclusion\": \"Improving your credit score is a journey, and while it may seem overwhelming right now, taking small, consistent steps can lead to significant change. Remember, you're not alone in this process.\",\n",
      "  \"Summary\": \"Focus on resolving your delinquent accounts and maintaining timely payments to enhance your credit health. Explore options like secured credit cards to increase your available credit and keep an eye on your credit report for continuous improvement.\"\n",
      "}\n"
     ]
    }
   ],
   "source": [
    "response = get_top5(system_prompt,user_prompt,model='gpt-4o-mini')\n",
    "print(response.choices[0].message.content)"
   ]
  },
  {
   "cell_type": "code",
   "execution_count": null,
   "metadata": {},
   "outputs": [
    {
     "data": {
      "text/plain": [
       "{'Score Health': \"Your current credit score is 517, placing you in the 'Poor' category. This indicates there are several areas for improvement we can work on together.\",\n",
       " 'Key Negative Factors': ['Delinquent Accounts: 2 - These accounts have not been paid as agreed, which negatively impacts your score.',\n",
       "  'Derogatory Accounts: 4 - These accounts reflect serious issues like defaults or charge-offs, making it harder to get new credit.',\n",
       "  'High Balance on Installment Accounts: $8,080 - A high outstanding balance can suggest a risk to lenders.',\n",
       "  'Late Payment Percentage: 22.22% - Missing payments can significantly hurt your score, as it reflects negatively on your credit responsibility.'],\n",
       " 'Positive Factors (or Less Negative)': ['On-Time Payment Percentage: 77.78% - You have managed to make most of your payments on time, which is a great foundation to build on.',\n",
       "  'Credit Age: 4.9 years - A longer credit history can work in your favor, especially if you keep improving your payment habits.'],\n",
       " 'What Might Help Improve the Score': ['Pay Down Delinquent Accounts - Focus on addressing those 2 delinquent accounts to help improve your overall credit standing.',\n",
       "  'Set Up a Payment Plan - Consider working with creditors to arrange manageable payment plans for your outstanding balances.',\n",
       "  'Make Payments on Time - Aim to consistently pay all your bills on time; even small amounts can help improve your score over time.',\n",
       "  'Limit New Credit Inquiries - Try to avoid opening new accounts right now, as each inquiry can have a temporary negative impact on your score.'],\n",
       " 'Conclusion': 'While your current score may feel discouraging, with deliberate efforts and a bit of time, you can absolutely improve it. Every step you take counts!',\n",
       " 'Summary': \"You are currently facing challenges with delinquent and derogatory accounts, but you've shown great reliability with most payments. Focusing on addressing past due debts and making timely payments will empower you to gradually build up your credit score.\"}"
      ]
     },
     "metadata": {},
     "output_type": "display_data"
    }
   ],
   "source": [
    "result_json = json.loads(response.choices[0].message.content)\n",
    "# result_json['Key Negative Factors']\n",
    "result_json"
   ]
  },
  {
   "cell_type": "markdown",
   "metadata": {},
   "source": [
    "# 5 users"
   ]
  },
  {
   "cell_type": "code",
   "execution_count": 59,
   "metadata": {},
   "outputs": [
    {
     "name": "stderr",
     "output_type": "stream",
     "text": [
      "/var/folders/wf/dnb0jm9x1vnc27qxnk9yr6yh0000gp/T/ipykernel_28094/45690260.py:1: FutureWarning: The default of observed=False is deprecated and will be changed to True in a future version of pandas. Pass observed=False to retain current behavior or observed=True to adopt the future default and silence this warning.\n",
      "  df_1000.groupby(['vantage_score_category']).size()\n"
     ]
    },
    {
     "data": {
      "text/plain": [
       "vantage_score_category\n",
       "Poor            728\n",
       "Fair            191\n",
       "Good             66\n",
       "Very Good         9\n",
       "Exceptional       6\n",
       "Out of Range      0\n",
       "dtype: int64"
      ]
     },
     "execution_count": 59,
     "metadata": {},
     "output_type": "execute_result"
    }
   ],
   "source": [
    "df_1000.groupby(['vantage_score_category']).size()"
   ]
  },
  {
   "cell_type": "code",
   "execution_count": 62,
   "metadata": {},
   "outputs": [
    {
     "data": {
      "text/plain": [
       "Index(['_id', 'user_id', 'user_email', 'created_at', 'credit_report_frozen',\n",
       "       'deleted', 'is_enrolled', 'updated_at', 'population_rank',\n",
       "       'snap_shot__open_accounts', 'snap_shot__total_closed_accounts',\n",
       "       'snap_shot__closed_accounts', 'snap_shot__total_accounts',\n",
       "       'snap_shot__delinquent_accounts', 'snap_shot__derogatory_accounts',\n",
       "       'snap_shot__total_balances', 'snap_shot__total_monthly_payments',\n",
       "       'snap_shot__number_of_inquiries', 'snap_shot__total_public_records',\n",
       "       'snap_shot__available_credit', 'snap_shot__utilization',\n",
       "       'snap_shot__date_of_oldest_trade', 'snap_shot__age_of_credit',\n",
       "       'snap_shot__total_open_installment_accounts',\n",
       "       'snap_shot__total_open_collection_accounts',\n",
       "       'snap_shot__total_open_mortgage_accounts',\n",
       "       'snap_shot__total_open_revolving_accounts',\n",
       "       'snap_shot__total_open_other_accounts',\n",
       "       'snap_shot__balance_open_installment_accounts',\n",
       "       'snap_shot__balance_open_collection_accounts',\n",
       "       'snap_shot__balance_open_mortgage_accounts',\n",
       "       'snap_shot__balance_open_revolving_accounts',\n",
       "       'snap_shot__balance_open_other_accounts',\n",
       "       'snap_shot__on_time_payment_percentage',\n",
       "       'snap_shot__late_payment_percentage', 'thin_file__description',\n",
       "       'vantage_score3', 'vantage_score_category'],\n",
       "      dtype='object')"
      ]
     },
     "execution_count": 62,
     "metadata": {},
     "output_type": "execute_result"
    }
   ],
   "source": [
    "df_1000.columns"
   ]
  },
  {
   "cell_type": "code",
   "execution_count": null,
   "metadata": {},
   "outputs": [
    {
     "data": {
      "application/vnd.microsoft.datawrangler.viewer.v0+json": {
       "columns": [
        {
         "name": "index",
         "rawType": "int64",
         "type": "integer"
        },
        {
         "name": "_id",
         "rawType": "object",
         "type": "string"
        },
        {
         "name": "user_id",
         "rawType": "object",
         "type": "string"
        },
        {
         "name": "user_email",
         "rawType": "object",
         "type": "string"
        },
        {
         "name": "created_at",
         "rawType": "object",
         "type": "string"
        },
        {
         "name": "credit_report_frozen",
         "rawType": "bool",
         "type": "boolean"
        },
        {
         "name": "deleted",
         "rawType": "bool",
         "type": "boolean"
        },
        {
         "name": "is_enrolled",
         "rawType": "bool",
         "type": "boolean"
        },
        {
         "name": "updated_at",
         "rawType": "object",
         "type": "string"
        },
        {
         "name": "population_rank",
         "rawType": "int64",
         "type": "integer"
        },
        {
         "name": "snap_shot__open_accounts",
         "rawType": "int64",
         "type": "integer"
        },
        {
         "name": "snap_shot__total_closed_accounts",
         "rawType": "float64",
         "type": "float"
        },
        {
         "name": "snap_shot__closed_accounts",
         "rawType": "int64",
         "type": "integer"
        },
        {
         "name": "snap_shot__total_accounts",
         "rawType": "int64",
         "type": "integer"
        },
        {
         "name": "snap_shot__delinquent_accounts",
         "rawType": "int64",
         "type": "integer"
        },
        {
         "name": "snap_shot__derogatory_accounts",
         "rawType": "int64",
         "type": "integer"
        },
        {
         "name": "snap_shot__total_balances",
         "rawType": "float64",
         "type": "float"
        },
        {
         "name": "snap_shot__total_monthly_payments",
         "rawType": "int64",
         "type": "integer"
        },
        {
         "name": "snap_shot__number_of_inquiries",
         "rawType": "int64",
         "type": "integer"
        },
        {
         "name": "snap_shot__total_public_records",
         "rawType": "int64",
         "type": "integer"
        },
        {
         "name": "snap_shot__available_credit",
         "rawType": "float64",
         "type": "float"
        },
        {
         "name": "snap_shot__utilization",
         "rawType": "float64",
         "type": "float"
        },
        {
         "name": "snap_shot__date_of_oldest_trade",
         "rawType": "object",
         "type": "string"
        },
        {
         "name": "snap_shot__age_of_credit",
         "rawType": "float64",
         "type": "float"
        },
        {
         "name": "snap_shot__total_open_installment_accounts",
         "rawType": "int64",
         "type": "integer"
        },
        {
         "name": "snap_shot__total_open_collection_accounts",
         "rawType": "int64",
         "type": "integer"
        },
        {
         "name": "snap_shot__total_open_mortgage_accounts",
         "rawType": "int64",
         "type": "integer"
        },
        {
         "name": "snap_shot__total_open_revolving_accounts",
         "rawType": "int64",
         "type": "integer"
        },
        {
         "name": "snap_shot__total_open_other_accounts",
         "rawType": "int64",
         "type": "integer"
        },
        {
         "name": "snap_shot__balance_open_installment_accounts",
         "rawType": "int64",
         "type": "integer"
        },
        {
         "name": "snap_shot__balance_open_collection_accounts",
         "rawType": "int64",
         "type": "integer"
        },
        {
         "name": "snap_shot__balance_open_mortgage_accounts",
         "rawType": "int64",
         "type": "integer"
        },
        {
         "name": "snap_shot__balance_open_revolving_accounts",
         "rawType": "int64",
         "type": "integer"
        },
        {
         "name": "snap_shot__balance_open_other_accounts",
         "rawType": "int64",
         "type": "integer"
        },
        {
         "name": "snap_shot__on_time_payment_percentage",
         "rawType": "object",
         "type": "string"
        },
        {
         "name": "snap_shot__late_payment_percentage",
         "rawType": "object",
         "type": "string"
        },
        {
         "name": "thin_file__description",
         "rawType": "object",
         "type": "unknown"
        },
        {
         "name": "vantage_score3",
         "rawType": "int64",
         "type": "integer"
        },
        {
         "name": "vantage_score_category",
         "rawType": "category",
         "type": "unknown"
        }
       ],
       "conversionMethod": "pd.DataFrame",
       "ref": "bd04a2ab-ff8d-4884-aee7-4b6261cabd52",
       "rows": [
        [
         "0",
         "66ec26e2c0b33822acecbca5",
         "66ec25713804f60b406c5dca",
         "a46b2854647b839cd1caaa912457b636a7a9c9373d3fb1f08b8ca5f20096b7c7",
         "2024-09-19 13:28:02.711",
         "False",
         "False",
         "True",
         "2025-02-21 07:27:23.232",
         "2",
         "5",
         null,
         "8",
         "13",
         "1",
         "9",
         "15083.0",
         "520",
         "9",
         "0",
         "0.0",
         "0.0",
         "2021-03-19",
         "3.9",
         "0",
         "5",
         "0",
         "0",
         "0",
         "0",
         "8447",
         "0",
         "0",
         "0",
         "87.5%",
         "12.5%",
         null,
         "460",
         "Poor"
        ],
        [
         "1",
         "66ec271ed58ccf36a23748a4",
         "627300afba62be4a28ca17ba",
         "049a9f1d119ced7afb64fb9e8a7f8ce07189e7ba7099967cb6f35e5b6a71c037",
         "2024-09-19 13:29:02.255",
         "False",
         "False",
         "True",
         "2025-02-21 07:27:24.195",
         "5",
         "4",
         null,
         "1",
         "5",
         "1",
         "2",
         "1357.0",
         "160",
         "3",
         "0",
         "-112.0",
         "1.448",
         "2022-01-31",
         "3.1",
         "0",
         "1",
         "0",
         "1",
         "2",
         "0",
         "580",
         "0",
         "362",
         "0",
         "75%",
         "25%",
         null,
         "499",
         "Poor"
        ],
        [
         "2",
         "66ec272ed58ccf36a23749c7",
         "66ec2608868a9622564d46bb",
         "9bc82cf1f08d07cf0551c8cefbde213eff5ba76fed3f05a50c6ceb67a6de4f31",
         "2024-09-19 13:29:18.628",
         "False",
         "False",
         "True",
         "2025-02-21 07:28:42.751",
         "34",
         "18",
         null,
         "17",
         "35",
         "0",
         "7",
         "77455.0",
         "423",
         "1",
         "0",
         "13.0",
         "0.957",
         "2015-03-27",
         "9.9",
         "15",
         "1",
         "0",
         "1",
         "1",
         "69650",
         "3864",
         "0",
         "287",
         "0",
         "93.94%",
         "6.06%",
         null,
         "610",
         "Fair"
        ],
        [
         "3",
         "66ec273ed58ccf36a2374a13",
         "6429bb6efe264063091b97ed",
         "e8973321e28d8a774df7bd9a965b5a9d16d7e88f2f9fdc57dfed53813d749e82",
         "2024-09-19 13:29:34.085",
         "False",
         "False",
         "True",
         "2025-02-21 07:28:43.556",
         "20",
         "5",
         null,
         "6",
         "11",
         "2",
         "6",
         "226662.0",
         "2246",
         "9",
         "0",
         "0.0",
         "0.0",
         "2014-07-16",
         "10.6",
         "0",
         "2",
         "1",
         "0",
         "2",
         "0",
         "1657",
         "211802",
         "0",
         "0",
         "88.89%",
         "11.11%",
         null,
         "551",
         "Poor"
        ],
        [
         "4",
         "66ec274f766dc80a49fad7a9",
         "66ec250d3804f60b406b4e4e",
         "2a2e8fdcdc9522ae6d5e95c0fddc648ccd2273f372e8dc2544ff9f6c5eba7d35",
         "2024-09-19 13:29:51.443",
         "False",
         "False",
         "True",
         "2025-02-21 07:28:44.413",
         "8",
         "2",
         null,
         "2",
         "4",
         "1",
         "3",
         "2672.0",
         "0",
         "2",
         "0",
         "0.0",
         "0.0",
         "2013-09-10",
         "11.5",
         "0",
         "2",
         "0",
         "0",
         "0",
         "0",
         "1059",
         "0",
         "0",
         "0",
         "50%",
         "50%",
         null,
         "515",
         "Poor"
        ]
       ],
       "shape": {
        "columns": 38,
        "rows": 5
       }
      },
      "text/html": [
       "<div>\n",
       "<style scoped>\n",
       "    .dataframe tbody tr th:only-of-type {\n",
       "        vertical-align: middle;\n",
       "    }\n",
       "\n",
       "    .dataframe tbody tr th {\n",
       "        vertical-align: top;\n",
       "    }\n",
       "\n",
       "    .dataframe thead th {\n",
       "        text-align: right;\n",
       "    }\n",
       "</style>\n",
       "<table border=\"1\" class=\"dataframe\">\n",
       "  <thead>\n",
       "    <tr style=\"text-align: right;\">\n",
       "      <th></th>\n",
       "      <th>_id</th>\n",
       "      <th>user_id</th>\n",
       "      <th>user_email</th>\n",
       "      <th>created_at</th>\n",
       "      <th>credit_report_frozen</th>\n",
       "      <th>deleted</th>\n",
       "      <th>is_enrolled</th>\n",
       "      <th>updated_at</th>\n",
       "      <th>population_rank</th>\n",
       "      <th>snap_shot__open_accounts</th>\n",
       "      <th>...</th>\n",
       "      <th>snap_shot__balance_open_installment_accounts</th>\n",
       "      <th>snap_shot__balance_open_collection_accounts</th>\n",
       "      <th>snap_shot__balance_open_mortgage_accounts</th>\n",
       "      <th>snap_shot__balance_open_revolving_accounts</th>\n",
       "      <th>snap_shot__balance_open_other_accounts</th>\n",
       "      <th>snap_shot__on_time_payment_percentage</th>\n",
       "      <th>snap_shot__late_payment_percentage</th>\n",
       "      <th>thin_file__description</th>\n",
       "      <th>vantage_score3</th>\n",
       "      <th>vantage_score_category</th>\n",
       "    </tr>\n",
       "  </thead>\n",
       "  <tbody>\n",
       "    <tr>\n",
       "      <th>0</th>\n",
       "      <td>66ec26e2c0b33822acecbca5</td>\n",
       "      <td>66ec25713804f60b406c5dca</td>\n",
       "      <td>a46b2854647b839cd1caaa912457b636a7a9c9373d3fb1...</td>\n",
       "      <td>2024-09-19 13:28:02.711</td>\n",
       "      <td>False</td>\n",
       "      <td>False</td>\n",
       "      <td>True</td>\n",
       "      <td>2025-02-21 07:27:23.232</td>\n",
       "      <td>2</td>\n",
       "      <td>5</td>\n",
       "      <td>...</td>\n",
       "      <td>0</td>\n",
       "      <td>8447</td>\n",
       "      <td>0</td>\n",
       "      <td>0</td>\n",
       "      <td>0</td>\n",
       "      <td>87.5%</td>\n",
       "      <td>12.5%</td>\n",
       "      <td>NaN</td>\n",
       "      <td>460</td>\n",
       "      <td>Poor</td>\n",
       "    </tr>\n",
       "    <tr>\n",
       "      <th>1</th>\n",
       "      <td>66ec271ed58ccf36a23748a4</td>\n",
       "      <td>627300afba62be4a28ca17ba</td>\n",
       "      <td>049a9f1d119ced7afb64fb9e8a7f8ce07189e7ba709996...</td>\n",
       "      <td>2024-09-19 13:29:02.255</td>\n",
       "      <td>False</td>\n",
       "      <td>False</td>\n",
       "      <td>True</td>\n",
       "      <td>2025-02-21 07:27:24.195</td>\n",
       "      <td>5</td>\n",
       "      <td>4</td>\n",
       "      <td>...</td>\n",
       "      <td>0</td>\n",
       "      <td>580</td>\n",
       "      <td>0</td>\n",
       "      <td>362</td>\n",
       "      <td>0</td>\n",
       "      <td>75%</td>\n",
       "      <td>25%</td>\n",
       "      <td>NaN</td>\n",
       "      <td>499</td>\n",
       "      <td>Poor</td>\n",
       "    </tr>\n",
       "    <tr>\n",
       "      <th>2</th>\n",
       "      <td>66ec272ed58ccf36a23749c7</td>\n",
       "      <td>66ec2608868a9622564d46bb</td>\n",
       "      <td>9bc82cf1f08d07cf0551c8cefbde213eff5ba76fed3f05...</td>\n",
       "      <td>2024-09-19 13:29:18.628</td>\n",
       "      <td>False</td>\n",
       "      <td>False</td>\n",
       "      <td>True</td>\n",
       "      <td>2025-02-21 07:28:42.751</td>\n",
       "      <td>34</td>\n",
       "      <td>18</td>\n",
       "      <td>...</td>\n",
       "      <td>69650</td>\n",
       "      <td>3864</td>\n",
       "      <td>0</td>\n",
       "      <td>287</td>\n",
       "      <td>0</td>\n",
       "      <td>93.94%</td>\n",
       "      <td>6.06%</td>\n",
       "      <td>NaN</td>\n",
       "      <td>610</td>\n",
       "      <td>Fair</td>\n",
       "    </tr>\n",
       "    <tr>\n",
       "      <th>3</th>\n",
       "      <td>66ec273ed58ccf36a2374a13</td>\n",
       "      <td>6429bb6efe264063091b97ed</td>\n",
       "      <td>e8973321e28d8a774df7bd9a965b5a9d16d7e88f2f9fdc...</td>\n",
       "      <td>2024-09-19 13:29:34.085</td>\n",
       "      <td>False</td>\n",
       "      <td>False</td>\n",
       "      <td>True</td>\n",
       "      <td>2025-02-21 07:28:43.556</td>\n",
       "      <td>20</td>\n",
       "      <td>5</td>\n",
       "      <td>...</td>\n",
       "      <td>0</td>\n",
       "      <td>1657</td>\n",
       "      <td>211802</td>\n",
       "      <td>0</td>\n",
       "      <td>0</td>\n",
       "      <td>88.89%</td>\n",
       "      <td>11.11%</td>\n",
       "      <td>NaN</td>\n",
       "      <td>551</td>\n",
       "      <td>Poor</td>\n",
       "    </tr>\n",
       "    <tr>\n",
       "      <th>4</th>\n",
       "      <td>66ec274f766dc80a49fad7a9</td>\n",
       "      <td>66ec250d3804f60b406b4e4e</td>\n",
       "      <td>2a2e8fdcdc9522ae6d5e95c0fddc648ccd2273f372e8dc...</td>\n",
       "      <td>2024-09-19 13:29:51.443</td>\n",
       "      <td>False</td>\n",
       "      <td>False</td>\n",
       "      <td>True</td>\n",
       "      <td>2025-02-21 07:28:44.413</td>\n",
       "      <td>8</td>\n",
       "      <td>2</td>\n",
       "      <td>...</td>\n",
       "      <td>0</td>\n",
       "      <td>1059</td>\n",
       "      <td>0</td>\n",
       "      <td>0</td>\n",
       "      <td>0</td>\n",
       "      <td>50%</td>\n",
       "      <td>50%</td>\n",
       "      <td>NaN</td>\n",
       "      <td>515</td>\n",
       "      <td>Poor</td>\n",
       "    </tr>\n",
       "  </tbody>\n",
       "</table>\n",
       "<p>5 rows × 38 columns</p>\n",
       "</div>"
      ],
      "text/plain": [
       "                        _id                   user_id  \\\n",
       "0  66ec26e2c0b33822acecbca5  66ec25713804f60b406c5dca   \n",
       "1  66ec271ed58ccf36a23748a4  627300afba62be4a28ca17ba   \n",
       "2  66ec272ed58ccf36a23749c7  66ec2608868a9622564d46bb   \n",
       "3  66ec273ed58ccf36a2374a13  6429bb6efe264063091b97ed   \n",
       "4  66ec274f766dc80a49fad7a9  66ec250d3804f60b406b4e4e   \n",
       "\n",
       "                                          user_email               created_at  \\\n",
       "0  a46b2854647b839cd1caaa912457b636a7a9c9373d3fb1...  2024-09-19 13:28:02.711   \n",
       "1  049a9f1d119ced7afb64fb9e8a7f8ce07189e7ba709996...  2024-09-19 13:29:02.255   \n",
       "2  9bc82cf1f08d07cf0551c8cefbde213eff5ba76fed3f05...  2024-09-19 13:29:18.628   \n",
       "3  e8973321e28d8a774df7bd9a965b5a9d16d7e88f2f9fdc...  2024-09-19 13:29:34.085   \n",
       "4  2a2e8fdcdc9522ae6d5e95c0fddc648ccd2273f372e8dc...  2024-09-19 13:29:51.443   \n",
       "\n",
       "   credit_report_frozen  deleted  is_enrolled               updated_at  \\\n",
       "0                 False    False         True  2025-02-21 07:27:23.232   \n",
       "1                 False    False         True  2025-02-21 07:27:24.195   \n",
       "2                 False    False         True  2025-02-21 07:28:42.751   \n",
       "3                 False    False         True  2025-02-21 07:28:43.556   \n",
       "4                 False    False         True  2025-02-21 07:28:44.413   \n",
       "\n",
       "   population_rank  snap_shot__open_accounts  ...  \\\n",
       "0                2                         5  ...   \n",
       "1                5                         4  ...   \n",
       "2               34                        18  ...   \n",
       "3               20                         5  ...   \n",
       "4                8                         2  ...   \n",
       "\n",
       "   snap_shot__balance_open_installment_accounts  \\\n",
       "0                                             0   \n",
       "1                                             0   \n",
       "2                                         69650   \n",
       "3                                             0   \n",
       "4                                             0   \n",
       "\n",
       "   snap_shot__balance_open_collection_accounts  \\\n",
       "0                                         8447   \n",
       "1                                          580   \n",
       "2                                         3864   \n",
       "3                                         1657   \n",
       "4                                         1059   \n",
       "\n",
       "   snap_shot__balance_open_mortgage_accounts  \\\n",
       "0                                          0   \n",
       "1                                          0   \n",
       "2                                          0   \n",
       "3                                     211802   \n",
       "4                                          0   \n",
       "\n",
       "   snap_shot__balance_open_revolving_accounts  \\\n",
       "0                                           0   \n",
       "1                                         362   \n",
       "2                                         287   \n",
       "3                                           0   \n",
       "4                                           0   \n",
       "\n",
       "   snap_shot__balance_open_other_accounts  \\\n",
       "0                                       0   \n",
       "1                                       0   \n",
       "2                                       0   \n",
       "3                                       0   \n",
       "4                                       0   \n",
       "\n",
       "   snap_shot__on_time_payment_percentage  snap_shot__late_payment_percentage  \\\n",
       "0                                  87.5%                               12.5%   \n",
       "1                                    75%                                 25%   \n",
       "2                                 93.94%                               6.06%   \n",
       "3                                 88.89%                              11.11%   \n",
       "4                                    50%                                 50%   \n",
       "\n",
       "   thin_file__description  vantage_score3  vantage_score_category  \n",
       "0                     NaN             460                    Poor  \n",
       "1                     NaN             499                    Poor  \n",
       "2                     NaN             610                    Fair  \n",
       "3                     NaN             551                    Poor  \n",
       "4                     NaN             515                    Poor  \n",
       "\n",
       "[5 rows x 38 columns]"
      ]
     },
     "execution_count": 61,
     "metadata": {},
     "output_type": "execute_result"
    }
   ],
   "source": [
    "df_5 = df_1000['_id', 'user_id', 'user_email', 'created_at', 'credit_report_frozen',\n",
    "       'deleted', 'is_enrolled', 'updated_at', 'population_rank',\n",
    "       'snap_shot__open_accounts', 'snap_shot__total_closed_accounts',\n",
    "       'snap_shot__closed_accounts', 'snap_shot__total_accounts',\n",
    "       'snap_shot__delinquent_accounts', 'snap_shot__derogatory_accounts',\n",
    "       'snap_shot__total_balances', 'snap_shot__total_monthly_payments',\n",
    "       'snap_shot__number_of_inquiries', 'snap_shot__total_public_records',\n",
    "       'snap_shot__available_credit', 'snap_shot__utilization',\n",
    "       'snap_shot__date_of_oldest_trade', 'snap_shot__age_of_credit',\n",
    "       'snap_shot__total_open_installment_accounts',\n",
    "       'snap_shot__total_open_collection_accounts',\n",
    "       'snap_shot__total_open_mortgage_accounts',\n",
    "       'snap_shot__total_open_revolving_accounts',\n",
    "       'snap_shot__total_open_other_accounts',\n",
    "       'snap_shot__balance_open_installment_accounts',\n",
    "       'snap_shot__balance_open_collection_accounts',\n",
    "       'snap_shot__balance_open_mortgage_accounts',\n",
    "       'snap_shot__balance_open_revolving_accounts',\n",
    "       'snap_shot__balance_open_other_accounts',\n",
    "       'snap_shot__on_time_payment_percentage',\n",
    "       'snap_shot__late_payment_percentage', 'thin_file__description',\n",
    "       'vantage_score3', 'vantage_score_category'][:5]\n",
    "df_5"
   ]
  },
  {
   "cell_type": "code",
   "execution_count": 68,
   "metadata": {},
   "outputs": [
    {
     "name": "stdout",
     "output_type": "stream",
     "text": [
      "0\n",
      "{'_id': '66ec26e2c0b33822acecbca5', 'user_id': '66ec25713804f60b406c5dca', 'user_email': 'a46b2854647b839cd1caaa912457b636a7a9c9373d3fb1f08b8ca5f20096b7c7', 'created_at': '2024-09-19 13:28:02.711', 'credit_report_frozen': False, 'deleted': False, 'is_enrolled': True, 'updated_at': '2025-02-21 07:27:23.232', 'population_rank': 2, 'snap_shot__open_accounts': 5, 'snap_shot__total_closed_accounts': None, 'snap_shot__closed_accounts': 8, 'snap_shot__total_accounts': 13, 'snap_shot__delinquent_accounts': 1, 'snap_shot__derogatory_accounts': 9, 'snap_shot__total_balances': 15083.0, 'snap_shot__total_monthly_payments': 520, 'snap_shot__number_of_inquiries': 9, 'snap_shot__total_public_records': 0, 'snap_shot__available_credit': 0.0, 'snap_shot__utilization': 0.0, 'snap_shot__date_of_oldest_trade': '2021-03-19', 'snap_shot__age_of_credit': 3.9, 'snap_shot__total_open_installment_accounts': 0, 'snap_shot__total_open_collection_accounts': 5, 'snap_shot__total_open_mortgage_accounts': 0, 'snap_shot__total_open_revolving_accounts': 0, 'snap_shot__total_open_other_accounts': 0, 'snap_shot__balance_open_installment_accounts': 0, 'snap_shot__balance_open_collection_accounts': 8447, 'snap_shot__balance_open_mortgage_accounts': 0, 'snap_shot__balance_open_revolving_accounts': 0, 'snap_shot__balance_open_other_accounts': 0, 'snap_shot__on_time_payment_percentage': '87.5%', 'snap_shot__late_payment_percentage': '12.5%', 'thin_file__description': None, 'vantage_score3': 460, 'vantage_score_category': 'Poor'}\n",
      "1\n",
      "{'_id': '66ec271ed58ccf36a23748a4', 'user_id': '627300afba62be4a28ca17ba', 'user_email': '049a9f1d119ced7afb64fb9e8a7f8ce07189e7ba7099967cb6f35e5b6a71c037', 'created_at': '2024-09-19 13:29:02.255', 'credit_report_frozen': False, 'deleted': False, 'is_enrolled': True, 'updated_at': '2025-02-21 07:27:24.195', 'population_rank': 5, 'snap_shot__open_accounts': 4, 'snap_shot__total_closed_accounts': None, 'snap_shot__closed_accounts': 1, 'snap_shot__total_accounts': 5, 'snap_shot__delinquent_accounts': 1, 'snap_shot__derogatory_accounts': 2, 'snap_shot__total_balances': 1357.0, 'snap_shot__total_monthly_payments': 160, 'snap_shot__number_of_inquiries': 3, 'snap_shot__total_public_records': 0, 'snap_shot__available_credit': -112.0, 'snap_shot__utilization': 1.448, 'snap_shot__date_of_oldest_trade': '2022-01-31', 'snap_shot__age_of_credit': 3.1, 'snap_shot__total_open_installment_accounts': 0, 'snap_shot__total_open_collection_accounts': 1, 'snap_shot__total_open_mortgage_accounts': 0, 'snap_shot__total_open_revolving_accounts': 1, 'snap_shot__total_open_other_accounts': 2, 'snap_shot__balance_open_installment_accounts': 0, 'snap_shot__balance_open_collection_accounts': 580, 'snap_shot__balance_open_mortgage_accounts': 0, 'snap_shot__balance_open_revolving_accounts': 362, 'snap_shot__balance_open_other_accounts': 0, 'snap_shot__on_time_payment_percentage': '75%', 'snap_shot__late_payment_percentage': '25%', 'thin_file__description': None, 'vantage_score3': 499, 'vantage_score_category': 'Poor'}\n"
     ]
    }
   ],
   "source": [
    "df_5_json = json.loads(df_5.to_json(orient='records'))\n",
    "print(\"0\")\n",
    "print(df_5_json[0])\n",
    "print(\"1\")\n",
    "print(df_5_json[1])"
   ]
  },
  {
   "cell_type": "code",
   "execution_count": null,
   "metadata": {},
   "outputs": [
    {
     "name": "stdout",
     "output_type": "stream",
     "text": [
      "66ec26e2c0b33822acecbca5\n",
      "66ec271ed58ccf36a23748a4\n",
      "66ec272ed58ccf36a23749c7\n",
      "66ec273ed58ccf36a2374a13\n",
      "66ec274f766dc80a49fad7a9\n"
     ]
    }
   ],
   "source": [
    "for score in df_5_json:\n",
    "    _id = score[\"_id\"]\n",
    "    print(score[\"_id\"])\n",
    "    "
   ]
  },
  {
   "cell_type": "code",
   "execution_count": null,
   "metadata": {},
   "outputs": [],
   "source": [
    "user_prompt = \"\"\"\n",
    "Analyze the following credit score data and produce an output in valid JSON format (using the keys defined in the system prompt). Incorporate an empathetic, encouraging tone while providing a detailed breakdown of the credit situation and clear recommendations:\n",
    "\n",
    "{\n",
    "  \"_id\": \"66ec502cc0b33822acefb102\",\n",
    "  \"user_id\": \"6515c12f1ddcd17a423751ee\",\n",
    "  \"user_email\": \"399777dcde15a99f492a3f21b4b26e5e3127d2512f71e0cb0e6f568d7eb43e06\",\n",
    "  \"created_at\": \"2024-09-19 16:24:12.712\",\n",
    "  \"credit_report_frozen\": false,\n",
    "  \"deleted\": false,\n",
    "  \"is_enrolled\": true,\n",
    "  \"updated_at\": \"2025-02-21 07:30:59.182\",\n",
    "  \"population_rank\": 10,\n",
    "  \"snap_shot__open_accounts\": 6,\n",
    "  \"snap_shot__total_closed_accounts\": null,\n",
    "  \"snap_shot__closed_accounts\": 6,\n",
    "  \"snap_shot__total_accounts\": 12,\n",
    "  \"snap_shot__delinquent_accounts\": 2,\n",
    "  \"snap_shot__derogatory_accounts\": 4,\n",
    "  \"snap_shot__total_balances\": 12802.0,\n",
    "  \"snap_shot__total_monthly_payments\": 291,\n",
    "  \"snap_shot__number_of_inquiries\": 5,\n",
    "  \"snap_shot__total_public_records\": 0,\n",
    "  \"snap_shot__available_credit\": 0.0,\n",
    "  \"snap_shot__utilization\": 0.0,\n",
    "  \"snap_shot__date_of_oldest_trade\": \"2020-04-08\",\n",
    "  \"snap_shot__age_of_credit\": 4.9,\n",
    "  \"snap_shot__total_open_installment_accounts\": 1,\n",
    "  \"snap_shot__total_open_collection_accounts\": 3,\n",
    "  \"snap_shot__total_open_mortgage_accounts\": 0,\n",
    "  \"snap_shot__total_open_revolving_accounts\": 0,\n",
    "  \"snap_shot__total_open_other_accounts\": 2,\n",
    "  \"snap_shot__balance_open_installment_accounts\": 8080,\n",
    "  \"snap_shot__balance_open_collection_accounts\": 4491,\n",
    "  \"snap_shot__balance_open_mortgage_accounts\": 0,\n",
    "  \"snap_shot__balance_open_revolving_accounts\": 0,\n",
    "  \"snap_shot__balance_open_other_accounts\": 0,\n",
    "  \"snap_shot__on_time_payment_percentage\": \"77.78%\",\n",
    "  \"snap_shot__late_payment_percentage\": \"22.22%\",\n",
    "  \"thin_file__description\": null,\n",
    "  \"vantage_score3\": 517,\n",
    "  \"vantage_score_category\": \"Poor\"\n",
    "}\n",
    "\n",
    "Please ensure your final answer is supportive, understandable, and presented solely as a JSON object with the specified structure.\n",
    "\"\"\""
   ]
  }
 ],
 "metadata": {
  "kernelspec": {
   "display_name": "venv",
   "language": "python",
   "name": "python3"
  },
  "language_info": {
   "codemirror_mode": {
    "name": "ipython",
    "version": 3
   },
   "file_extension": ".py",
   "mimetype": "text/x-python",
   "name": "python",
   "nbconvert_exporter": "python",
   "pygments_lexer": "ipython3",
   "version": "3.9.18"
  }
 },
 "nbformat": 4,
 "nbformat_minor": 2
}
